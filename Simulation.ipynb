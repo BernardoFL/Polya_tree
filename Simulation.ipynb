{
 "cells": [
  {
   "cell_type": "code",
   "execution_count": 1,
   "metadata": {},
   "outputs": [
    {
     "data": {
      "text/plain": [
       "TaskLocalRNG()"
      ]
     },
     "metadata": {},
     "output_type": "display_data"
    }
   ],
   "source": [
    "using Distributions, Plots, Statistics, LinearAlgebra, DataFrames, Random, StatsModels\n",
    "using StatsFuns: logistic, logit\n",
    "import CSV, StatsBase\n",
    "\n",
    "Random.seed!(12312)"
   ]
  },
  {
   "cell_type": "markdown",
   "metadata": {},
   "source": [
    "First generate the true parameters"
   ]
  },
  {
   "cell_type": "code",
   "execution_count": 2,
   "metadata": {},
   "outputs": [],
   "source": [
    "x = CSV.File(\"/Users/bernardo/Documents/X.csv\") |> DataFrame |> Matrix\n",
    "x = x[:,2:end] #remove the first column excell put\n",
    "x = x[:, Not(1:5)]\n",
    "x[:,1] = rand(Bernoulli(0.7), size(x,1))\n",
    "x = x[:, Not(2:(end-34))] #remove the covariates\n",
    "n,p = size(x)\n",
    "\n",
    "### median\n",
    "    true_β_5 = [rand(MvNormal(zeros(p-34), I)) rand(MvNormal(repeat([2],p-34), I)) rand(MvNormal(repeat([-2],p-34), I))]#i need to create the random effects. After this is just simulating the ys from a Bernoulli\n",
    "    #this yealds the random effects\n",
    "    true_β_5 = [true_β_5[:,i] for i in 1:3]\n",
    "    ψ = rand(Normal(), 34)\n",
    "    for i in 1:3\n",
    "        true_β_5[i] = vcat(true_β_5[i], ψ)\n",
    "    end\n",
    "### q25\n",
    "true_β_25 = [rand(MvNormal(zeros(p - 34), I)) rand(MvNormal(repeat([2], p - 34), I)) rand(MvNormal(repeat([-2], p - 34), I))]#i need to create the random effects. After this is just simulating the ys from a Bernoulli\n",
    "#this yealds the random effects\n",
    "true_β_25 = [true_β_25[:, i] for i in 1:3]\n",
    "ψ = rand(Normal(), 34)\n",
    "for i in 1:3\n",
    "    true_β_25[i] = vcat(true_β_25[i], ψ)\n",
    "end\n",
    "\n",
    "### q75\n",
    "true_β_75 = [rand(MvNormal(zeros(p - 34), I)) rand(MvNormal(repeat([2], p - 34), I)) rand(MvNormal(repeat([-2], p - 34), I))]#i need to create the random effects. After this is just simulating the ys from a Bernoulli\n",
    "#this yealds the random effects\n",
    "true_β_75 = [true_β_75[:, i] for i in 1:3]\n",
    "ψ = rand(Normal(), 34)\n",
    "for i in 1:3\n",
    "    true_β_75[i] = vcat(true_β_75[i], ψ)\n",
    "end"
   ]
  },
  {
   "cell_type": "markdown",
   "metadata": {},
   "source": [
    "Try instead generating an effect from a Weibull regression"
   ]
  },
  {
   "cell_type": "code",
   "execution_count": 2,
   "metadata": {},
   "outputs": [
    {
     "data": {
      "text/plain": [
       "60×91 Matrix{Float64}:\n",
       " 1.0  0.0  0.0  0.0  0.0  0.0  0.0  0.0  …  0.0  0.0  0.0  0.0  0.0  0.0  0.0\n",
       " 0.0  1.0  0.0  0.0  0.0  0.0  0.0  0.0     0.0  0.0  0.0  0.0  0.0  0.0  0.0\n",
       " 0.0  0.0  1.0  0.0  0.0  0.0  0.0  0.0     0.0  0.0  0.0  0.0  0.0  0.0  0.0\n",
       " 0.0  0.0  0.0  1.0  0.0  0.0  0.0  0.0     0.0  0.0  0.0  0.0  0.0  0.0  0.0\n",
       " 0.0  0.0  0.0  0.0  1.0  0.0  0.0  0.0     0.0  0.0  0.0  0.0  0.0  0.0  0.0\n",
       " 0.0  0.0  0.0  0.0  0.0  1.0  0.0  0.0  …  0.0  0.0  0.0  0.0  0.0  0.0  0.0\n",
       " 0.0  0.0  0.0  0.0  0.0  0.0  1.0  0.0     0.0  1.0  0.0  0.0  0.0  0.0  0.0\n",
       " 0.0  0.0  0.0  0.0  0.0  0.0  0.0  1.0     0.0  1.0  0.0  0.0  0.0  0.0  0.0\n",
       " 0.0  0.0  0.0  0.0  0.0  0.0  0.0  0.0     0.0  0.0  1.0  0.0  0.0  0.0  0.0\n",
       " 0.0  0.0  0.0  0.0  0.0  0.0  0.0  0.0     0.0  0.0  1.0  0.0  0.0  0.0  0.0\n",
       " ⋮                        ⋮              ⋱       ⋮                        ⋮\n",
       " 0.0  0.0  0.0  0.0  0.0  0.0  0.0  0.0     0.0  0.0  0.0  0.0  0.0  0.0  0.0\n",
       " 0.0  0.0  0.0  0.0  0.0  0.0  0.0  0.0     0.0  0.0  0.0  0.0  0.0  0.0  0.0\n",
       " 0.0  0.0  0.0  0.0  0.0  0.0  0.0  0.0     0.0  0.0  0.0  0.0  0.0  0.0  0.0\n",
       " 0.0  0.0  0.0  0.0  0.0  0.0  0.0  0.0     0.0  0.0  0.0  0.0  0.0  0.0  0.0\n",
       " 0.0  0.0  0.0  0.0  0.0  0.0  0.0  0.0  …  0.0  0.0  0.0  0.0  0.0  0.0  0.0\n",
       " 0.0  0.0  0.0  0.0  0.0  0.0  0.0  0.0     0.0  0.0  0.0  0.0  0.0  0.0  0.0\n",
       " 0.0  0.0  0.0  0.0  0.0  0.0  0.0  0.0     0.0  0.0  0.0  0.0  0.0  0.0  0.0\n",
       " 0.0  0.0  0.0  0.0  0.0  0.0  0.0  0.0     1.0  0.0  0.0  0.0  0.0  0.0  0.0\n",
       " 0.0  0.0  0.0  0.0  0.0  0.0  0.0  0.0     1.0  0.0  0.0  0.0  0.0  0.0  0.0"
      ]
     },
     "metadata": {},
     "output_type": "display_data"
    }
   ],
   "source": [
    "dat = (i = string.(1:60), x1=rand(Normal(5, 1), 60),#one continuous\n",
    "    x2= string.(rand(Bernoulli(0.7), 60)), #one discrete\n",
    "    rf=vcat([[\"$i\", \"$i\"] for i in 1:30]...) #random effects (29)\n",
    ")\n",
    "\n",
    "ts = apply_schema(term.((1, :x1, :x2, :rf)), schema(dat))\n",
    "\n",
    "X = modelcols(MatrixTerm(ts), dat)\n",
    "X = hcat(I, X[:,2:end])"
   ]
  },
  {
   "cell_type": "code",
   "execution_count": 3,
   "metadata": {},
   "outputs": [
    {
     "data": {
      "text/plain": [
       "60×30 adjoint(::Matrix{Float64}) with eltype Float64:\n",
       "   0.389472   25.5923     0.0537504  …   13.9942      3.68984   13.4135\n",
       "  14.0551      3.38393   35.9809         68.2344      6.37637   13.2792\n",
       "  13.4977      5.43255   51.2415         16.3859     13.5532    41.7458\n",
       "  16.5101     37.9016    15.7251          1.00429     9.13738   47.9622\n",
       "   2.0466    193.021      7.25169        64.8296     12.1297    26.062\n",
       "  29.9809     22.4922    22.9948     …   12.437       8.349     19.7007\n",
       "  18.6042     21.7179    13.8812         42.0148     29.3991     5.74463\n",
       "  24.8131     34.4291     1.62808        26.493      12.9698    23.6278\n",
       "  12.8153     26.3717     0.435162        0.150668    4.69339    3.25162\n",
       "  92.1854     91.7337   149.251           2.1593     39.0732   105.231\n",
       "   ⋮                                 ⋱                         \n",
       "   7.47709     3.56224    3.0687          5.08093    27.3087    37.6381\n",
       "  20.9307     16.2982    43.6716         40.8212     28.2207    57.5254\n",
       "  14.3664      1.26883   21.3594         17.6384     53.4135    48.036\n",
       "  25.6737     20.0035    13.0573        152.454      63.2378    90.2223\n",
       "  16.073      24.3839   137.651      …   18.4754      3.92429   88.7248\n",
       " 184.355      37.1236    43.6046        149.004     283.358    314.964\n",
       "  19.6988     29.3792    50.8712         96.4349      7.79292   44.8902\n",
       "   8.2016     11.1084    72.5823         56.539       1.55815   11.1801\n",
       "   1.48302     4.32221    4.11812         1.48525     8.08349   14.0853"
      ]
     },
     "metadata": {},
     "output_type": "display_data"
    }
   ],
   "source": [
    "\n",
    "β_true = hcat(vcat(ones(60), [0.4, 0.2]), vcat(ones(60), [0.7, 0.5] ))\n",
    "γ = rand(Uniform(-0.2,0.2), 29)\n",
    "β_true = vcat(β_true, repeat(γ, inner=(1,2)))\n",
    "\n",
    "ε = rand(Exponential(1), (60,30)) #b_new = a^-b\n",
    "\n",
    "k = sample(1:2, 60)\n",
    "\n",
    "\n",
    "y = hcat([exp.(X[i,:] ⋅ β_true[:, k[i]]) .* ε[i,:] for i in 1:size(X,1)]...)'\n",
    "#y_true = exp.(X * β_true[:,k]) \n",
    "\n",
    "#true_eff = hcat([quantile.(x, [0.25, 0.5, 0.75]) for x in dist]...)'\n",
    "#N = StatsBase.sample(10:50, 60)\n"
   ]
  },
  {
   "cell_type": "markdown",
   "metadata": {},
   "source": [
    "Plot the hazards (without the rf)"
   ]
  },
  {
   "cell_type": "code",
   "execution_count": 21,
   "metadata": {},
   "outputs": [
    {
     "data": {
      "text/plain": [
       "\"/Users/bernardo/Documents/Code/Polya_tree/surv_sim.png\""
      ]
     },
     "metadata": {},
     "output_type": "display_data"
    }
   ],
   "source": [
    "survs_1 = [t -> exp(-t * exp(- x ⋅ β_true[:,1] )) for x in eachrow(X[ k .== 1, :]) ] \n",
    "survs_2 = [t -> exp(-t * exp(-x ⋅ β_true[:, 2])) for x in eachrow(X[k.==2, :])]\n",
    "\n",
    "plot(survs_1, color = \"seagreen\", alpha = 0.3, label=\"\")\n",
    "plot!(survs_2, color=\"firebrick\", alpha=0.3, label=\"\")\n",
    "\n",
    "savefig(\"~/Documents/Code/Polya_tree/surv_sim.png\")\n",
    "\n",
    "\n",
    "#plot( exp.(-X[k .== 1,:] * β_true[:,1] ))"
   ]
  },
  {
   "cell_type": "markdown",
   "metadata": {},
   "source": [
    "Get the observerd quantiles"
   ]
  },
  {
   "cell_type": "code",
   "execution_count": 4,
   "metadata": {},
   "outputs": [
    {
     "data": {
      "text/plain": [
       "60-element Vector{Float64}:\n",
       "  20.118704397428516\n",
       "  33.02199301066085\n",
       "  33.376710733384115\n",
       "  36.338110776847756\n",
       "  73.14549693816573\n",
       "  25.2607284539126\n",
       "  28.840609629713775\n",
       "  61.95153786764803\n",
       "  15.74462651068436\n",
       " 147.23425783408314\n",
       "   ⋮\n",
       "  29.648865500386403\n",
       "  40.170912574717526\n",
       "  64.01501606497496\n",
       "  53.9153035632184\n",
       "  59.90275874312288\n",
       " 226.88414198232599\n",
       "  54.08735375988552\n",
       "  30.566859542198976\n",
       "   9.457322436844168"
      ]
     },
     "metadata": {},
     "output_type": "display_data"
    }
   ],
   "source": [
    "med_obs = [quantile(yi, 0.5) for yi in eachrow(y)]\n",
    "q_25_obs = [quantile(yi, 0.25) for yi in eachrow(y)]\n",
    "q_75_obs = [quantile(yi, 0.75) for yi in eachrow(y)]"
   ]
  },
  {
   "cell_type": "markdown",
   "metadata": {},
   "source": [
    "Now let's get the true quantiles"
   ]
  },
  {
   "cell_type": "code",
   "execution_count": 5,
   "metadata": {},
   "outputs": [
    {
     "data": {
      "text/plain": [
       "60-element Vector{Float64}:\n",
       "  22.93798821855154\n",
       "  26.732784491069634\n",
       "  31.880578723620744\n",
       "  46.90240219114269\n",
       " 143.7557140162411\n",
       "  20.687966985386478\n",
       "  36.68647577749344\n",
       "  70.06210557724138\n",
       "  17.07143303514248\n",
       " 192.90579338505287\n",
       "   ⋮\n",
       "  27.974362779512102\n",
       "  48.536288066385275\n",
       "  78.22137170114284\n",
       "  47.37235993262629\n",
       "  62.828298328242994\n",
       " 304.86040807315027\n",
       "  59.059225919825046\n",
       "  42.13364118191793\n",
       "  16.291589338237902"
      ]
     },
     "metadata": {},
     "output_type": "display_data"
    }
   ],
   "source": [
    "medians = [-log(0.5) * exp(X[i, :] ⋅ β_true[:, k[i]]) for i in 1:size(X, 1)]\n",
    "q_25 = [-log(0.75) * exp(X[i, :] ⋅ β_true[:, k[i]]) for i in 1:size(X, 1)]\n",
    "q_75 = [-log(0.25) * exp(X[i, :] ⋅ β_true[:, k[i]]) for i in 1:size(X, 1)]"
   ]
  },
  {
   "cell_type": "code",
   "execution_count": 6,
   "metadata": {},
   "outputs": [
    {
     "data": {
      "text/plain": [
       "plot_tree (generic function with 1 method)"
      ]
     },
     "metadata": {},
     "output_type": "display_data"
    }
   ],
   "source": [
    "include(\"/Users/bernardo/Documents/Code/Polya_tree/ddp_gibbs.jl\")\n",
    "include(\"/Users/bernardo/Documents/Code/Polya_tree/tree_struc.jl\")\n"
   ]
  },
  {
   "cell_type": "markdown",
   "metadata": {},
   "source": [
    "El problema es que el trial no cambia porque está inbuild en la matriz diseño, por ende el número de betas que generé antes no es consistente pues estas incluyen sólo un número específico que no coincide con la X.\n",
    "\n",
    "Aunque al final esto no debería de importar para el gibbs sampler porque no las uso allí."
   ]
  },
  {
   "cell_type": "code",
   "execution_count": 10,
   "metadata": {},
   "outputs": [
    {
     "data": {
      "text/plain": [
       "60-element Vector{Float64}:\n",
       " 0.8267548570210732\n",
       " 0.8462735152641068\n",
       " 0.8731898726845724\n",
       " 0.8500288277370412\n",
       " 0.8985949988088369\n",
       " 0.8427570701966735\n",
       " 0.8651283394651827\n",
       " 0.8778816541129804\n",
       " 0.8040555768543689\n",
       " 0.925731079957526\n",
       " ⋮\n",
       " 0.8511987168363684\n",
       " 0.8578003003510994\n",
       " 0.8865013479504642\n",
       " 0.8806644052183438\n",
       " 0.8633733364537713\n",
       " 0.939355464511544\n",
       " 0.880745458218394\n",
       " 0.8310502381735295\n",
       " 0.7776386942007398"
      ]
     },
     "metadata": {},
     "output_type": "display_data"
    }
   ],
   "source": [
    "cdf.(InverseGaussian.(med_obs, 1), med_obs)"
   ]
  },
  {
   "cell_type": "code",
   "execution_count": 7,
   "metadata": {},
   "outputs": [
    {
     "data": {
      "text/plain": [
       "Dict{String, Array} with 3 entries:\n",
       "  \"ψ\"  => [1.0, 0.559134, 1.85311, 0.430099, 1.64299, 0.757164, 2.04464, 0.4730…\n",
       "  \"sn\" => [2 1 … 2 2; 2 3 … 2 2; … ; 2 5 … 2 2; 4 3 … 2 2]\n",
       "  \"β\"  => [0.0 0.0 … 0.0 0.0; 0.0 0.0 … 0.0 0.0; … ; 0.0 0.0 … 0.0 0.0; 0.0 0.0…"
      ]
     },
     "metadata": {},
     "output_type": "display_data"
    }
   ],
   "source": [
    "#el problema es que al final esta bio. The last one is p_r\n",
    "μ_0 = vcat(logit.(cdf.(InverseGaussian.(med_obs, 1), med_obs)), zeros(size(X, 2) - 60))\n",
    "N = repeat([30], size(X,1))\n",
    "trial = parse.(Int64, dat[:rf])\n",
    "ch_5 = gibbs_sampler(50000, N .÷ 2, X, 29, 6, N, μ_0, 1, 1, 1, 1, trial)"
   ]
  },
  {
   "cell_type": "markdown",
   "metadata": {},
   "source": [
    "Now i need to create a function that gives me the pairs (iteration, prob)."
   ]
  },
  {
   "cell_type": "code",
   "execution_count": null,
   "metadata": {},
   "outputs": [],
   "source": [
    "#this gives the chain for the medians. estimate the other ones as well"
   ]
  },
  {
   "cell_type": "code",
   "execution_count": 8,
   "metadata": {},
   "outputs": [
    {
     "data": {
      "text/plain": [
       "Dict{String, Array} with 3 entries:\n",
       "  \"ψ\"  => [1.0, 1.64168, 0.69003, 1.59786, 0.740716, 1.52851, 0.747079, 1.04005…\n",
       "  \"sn\" => [6 5 … 1 1; 6 6 … 1 1; … ; 2 5 … 5 5; 1 1 … 6 6]\n",
       "  \"β\"  => [0.0 0.0 … 0.0 0.0; 0.0 0.0 … 0.0 0.0; … ; 0.0 0.0 … 0.0 0.0; 0.0 0.0…"
      ]
     },
     "metadata": {},
     "output_type": "display_data"
    }
   ],
   "source": [
    "μ_0 = vcat(logit.(cdf.(InverseGaussian.(med_obs, 1), q_25_obs)), zeros(size(X, 2) - 60))\n",
    "ch_25 = gibbs_sampler(50000, N .÷  4, X, 29, 6, N .÷ 2, μ_0, 1, 1, 1, 1, trial)"
   ]
  },
  {
   "cell_type": "code",
   "execution_count": 9,
   "metadata": {},
   "outputs": [
    {
     "data": {
      "text/plain": [
       "Dict{String, Array} with 3 entries:\n",
       "  \"ψ\"  => [1.0, 2.00959, 0.559353, 1.92042, 0.7932, 1.19873, 0.846586, 2.01552,…\n",
       "  \"sn\" => [2 1 … 4 4; 2 1 … 5 5; … ; 6 3 … 1 1; 1 2 … 3 3]\n",
       "  \"β\"  => [0.0 0.0 … 0.0 0.0; 0.0 0.0 … 0.0 0.0; … ; 0.0 0.0 … 0.0 0.0; 0.0 0.0…"
      ]
     },
     "metadata": {},
     "output_type": "display_data"
    }
   ],
   "source": [
    "μ_0 = vcat(logit.(cdf.(InverseGaussian.(med_obs, 1), q_75_obs .- med_obs)), zeros(size(X, 2) - 60))\n",
    "ch_75 = gibbs_sampler(50000, N .÷ 4, X, 29, 6, N .÷ 2, μ_0, 1, 1, 1, 1, trial)"
   ]
  },
  {
   "cell_type": "code",
   "execution_count": 10,
   "metadata": {},
   "outputs": [
    {
     "data": {
      "text/plain": [
       "probs_trace (generic function with 1 method)"
      ]
     },
     "metadata": {},
     "output_type": "display_data"
    }
   ],
   "source": [
    "function probs_trace(chains, X, trial, burnin)\n",
    "    #for each row\n",
    "    probs = zeros(size(X, 1), size(chains[\"β\"], 3))\n",
    "    for i in 1:size(X, 1)\n",
    "        #for each iteration of the chain\n",
    "        probs_i = zeros(size(chains[\"β\"], 3))\n",
    "        for j in burnin:size(chains[\"β\"], 3)\n",
    "            #β = (p,m,niter), sn=(n,niter)\n",
    "            #Get the betas from the cluster that at each iteration the obs belongs to\n",
    "            probs_i[j] = logistic.(chains[\"β\"][:, chains[\"sn\"][trial[i], j], j] ⋅ X[i, :])\n",
    "        end\n",
    "        probs[i, :] = cumsum(probs_i) ./ collect(1:length(probs_i))\n",
    "    end\n",
    "    return probs\n",
    "end"
   ]
  },
  {
   "cell_type": "code",
   "execution_count": 11,
   "metadata": {},
   "outputs": [
    {
     "data": {
      "text/plain": [
       "60×50000 Matrix{Float64}:\n",
       " 0.0  0.0  0.0  0.0  0.0  0.0  0.0  0.0  …  0.0135224  0.0135244  0.0135245\n",
       " 0.0  0.0  0.0  0.0  0.0  0.0  0.0  0.0     0.0133112  0.0133109  0.0133107\n",
       " 0.0  0.0  0.0  0.0  0.0  0.0  0.0  0.0     0.0125385  0.0125382  0.012538\n",
       " 0.0  0.0  0.0  0.0  0.0  0.0  0.0  0.0     0.0135873  0.013587   0.0135867\n",
       " 0.0  0.0  0.0  0.0  0.0  0.0  0.0  0.0     0.0126225  0.0126222  0.012622\n",
       " 0.0  0.0  0.0  0.0  0.0  0.0  0.0  0.0  …  0.0133606  0.0133603  0.0133601\n",
       " 0.0  0.0  0.0  0.0  0.0  0.0  0.0  0.0     0.0134342  0.013434   0.0134337\n",
       " 0.0  0.0  0.0  0.0  0.0  0.0  0.0  0.0     0.0134661  0.0134659  0.0134656\n",
       " 0.0  0.0  0.0  0.0  0.0  0.0  0.0  0.0     0.0132107  0.0132104  0.0132101\n",
       " 0.0  0.0  0.0  0.0  0.0  0.0  0.0  0.0     0.0122253  0.012225   0.0122248\n",
       " ⋮                        ⋮              ⋱                        \n",
       " 0.0  0.0  0.0  0.0  0.0  0.0  0.0  0.0     0.0127314  0.0127311  0.0127309\n",
       " 0.0  0.0  0.0  0.0  0.0  0.0  0.0  0.0     0.0128204  0.0128202  0.0128215\n",
       " 0.0  0.0  0.0  0.0  0.0  0.0  0.0  0.0     0.0132317  0.0132314  0.0132312\n",
       " 0.0  0.0  0.0  0.0  0.0  0.0  0.0  0.0     0.0135159  0.0135156  0.0135153\n",
       " 0.0  0.0  0.0  0.0  0.0  0.0  0.0  0.0  …  0.0125242  0.0125239  0.0125237\n",
       " 0.0  0.0  0.0  0.0  0.0  0.0  0.0  0.0     0.0132609  0.0132607  0.0132604\n",
       " 0.0  0.0  0.0  0.0  0.0  0.0  0.0  0.0     0.0127345  0.0127461  0.0127571\n",
       " 0.0  0.0  0.0  0.0  0.0  0.0  0.0  0.0     0.0116266  0.0116265  0.0116262\n",
       " 0.0  0.0  0.0  0.0  0.0  0.0  0.0  0.0     0.0132835  0.0132845  0.0132872"
      ]
     },
     "metadata": {},
     "output_type": "display_data"
    }
   ],
   "source": [
    "tr_p_5 = probs_trace(ch_5, X, trial, 40000)\n",
    "tr_p_25 = probs_trace(ch_25, X, trial, 40000)\n",
    "tr_p_75 = probs_trace(ch_75, X, trial, 40000)"
   ]
  },
  {
   "cell_type": "code",
   "execution_count": 17,
   "metadata": {},
   "outputs": [
    {
     "ename": "DimensionMismatch",
     "evalue": "DimensionMismatch: x and y are of different lengths!",
     "output_type": "error",
     "traceback": [
      "DimensionMismatch: x and y are of different lengths!\n",
      "\n",
      "Stacktrace:\n",
      " [1] dot(x::Vector{Float64}, y::Float64)\n",
      "   @ LinearAlgebra /Applications/Julia-1.9.app/Contents/Resources/julia/share/julia/stdlib/v1.9/LinearAlgebra/src/generic.jl:871\n",
      " [2] (::var\"#87#88\")(i::Int64)\n",
      "   @ Main ./none:0\n",
      " [3] iterate\n",
      "   @ ./generator.jl:47 [inlined]\n",
      " [4] collect(itr::Base.Generator{UnitRange{Int64}, var\"#87#88\"})\n",
      "   @ Base ./array.jl:782\n",
      " [5] top-level scope\n",
      "   @ ~/Documents/Code/Polya_tree/Simulation.ipynb:1"
     ]
    }
   ],
   "source": [
    "true_p_5 = [logistic(X[i, :] ⋅ β_true[k[i]]) for i in 1:size(X, 1)]\n",
    "p_hat = mapslices(mean, tr_p_5[:,49900:end], dims=2 )#trim the vector so julia doesnt cry\n",
    "scatter(true_p_5, p_hat, label=\"\")\n",
    "title!(\"Median: fitted vs truth\")\n",
    "#savefig(\"~/Documents/Code/Polya_tree/sim_res_5.png\")\n",
    "#hline!([true_p[1]])\n",
    "#plot([1.1,2.2,3.3], [0.1,0.2,0.5])"
   ]
  },
  {
   "cell_type": "code",
   "execution_count": 10,
   "metadata": {},
   "outputs": [
    {
     "data": {
      "text/plain": [
       "\"/Users/bernardo/Documents/Code/Polya_tree/sim_res_25.png\""
      ]
     },
     "metadata": {},
     "output_type": "display_data"
    }
   ],
   "source": [
    "true_p_25 = [logistic(x[i, :] ⋅ true_β_25[k[i]]) for i in 1:size(x, 1)]\n",
    "p_hat = mapslices(mean, tr_p_25[:, 49900:end], dims=2)#trim the vector so julia doesnt cry\n",
    "scatter(true_p_25, p_hat, label=\"\")\n",
    "title!(\"Q25: fitted vs truth\")\n",
    "savefig(\"~/Documents/Code/Polya_tree/sim_res_25.png\")"
   ]
  },
  {
   "cell_type": "code",
   "execution_count": 11,
   "metadata": {},
   "outputs": [
    {
     "data": {
      "text/plain": [
       "\"/Users/bernardo/Documents/Code/Polya_tree/sim_res_75.png\""
      ]
     },
     "metadata": {},
     "output_type": "display_data"
    }
   ],
   "source": [
    "true_p_75 = [logistic(x[i, :] ⋅ true_β_75[k[i]]) for i in 1:size(x, 1)]\n",
    "p_hat = mapslices(mean, tr_p_75[:, 49900:end], dims=2)#trim the vector so julia doesnt cry\n",
    "scatter(true_p_75, p_hat, label=\"\")\n",
    "title!(\"Q75: fitted vs truth\")\n",
    "savefig(\"~/Documents/Code/Polya_tree/sim_res_75.png\")"
   ]
  },
  {
   "cell_type": "markdown",
   "metadata": {},
   "source": [
    "Now get the estimations of effect size"
   ]
  },
  {
   "cell_type": "code",
   "execution_count": 12,
   "metadata": {},
   "outputs": [
    {
     "data": {
      "text/plain": [
       "grow_trees (generic function with 1 method)"
      ]
     },
     "metadata": {},
     "output_type": "display_data"
    }
   ],
   "source": [
    "function grow_trees(nlevels, splits, probs, c)\n",
    "    nlevels ≥ 3 || throw(BoundsError(\"nlevels must be at least 3!\"))\n",
    "    #instansiate trees\n",
    "\n",
    "    ## Create trees for each thing\n",
    "    forest = Matrix{Tree}(undef, 200, size(splits, 1))\n",
    "    for i in 1:size(forest, 2)\n",
    "        for j in 1:size(forest, 1)\n",
    "            forest[j, i] = Tree(probs[i, :], splits[i, :])\n",
    "        end\n",
    "    end\n",
    "    # forest = [Tree(inter -> area_prob(curvas[i], points, α₀, α₁, inter), collect(select(x[i,:], :low, :median, :hi))) for i in 1:nrow(x)]\n",
    "    for i in ProgressBar(2:nlevels)\n",
    "        #levels are horizontal, trees vertical\n",
    "        #probs = [area_prob(xi, j, i, α₀, α₁, αₘ, sigma) for j in nodes_in_level, xi in x]\n",
    "        #probs = hcat(probs...)\n",
    "        for k in 1:200\n",
    "            for tree in forest[k, :]\n",
    "                nodes_in_level = findall(x -> x.level == i - 1, tree.nodes)  #find all the nodes to split\n",
    "                for j in nodes_in_level\n",
    "                    #y = area_prob(curvas[tree], points, α₀, α₁, [inter[1], mean(inter)]) # <- add the interval here\n",
    "                    split_node!(tree, j, rand(Beta(c * 2.0^i, c * 2.0^i)), InverseGaussian())\n",
    "                end\n",
    "            end\n",
    "        end\n",
    "    end\n",
    "\n",
    "    return forest\n",
    "end\n"
   ]
  },
  {
   "cell_type": "markdown",
   "metadata": {},
   "source": [
    "First get the estimated probabilities"
   ]
  },
  {
   "cell_type": "code",
   "execution_count": 19,
   "metadata": {},
   "outputs": [
    {
     "ename": "UndefVarError",
     "evalue": "UndefVarError: `burnin` not defined",
     "output_type": "error",
     "traceback": [
      "UndefVarError: `burnin` not defined\n",
      "\n",
      "Stacktrace:\n",
      " [1] estimate_probs(chains::Dict{String, Array}, X::Matrix{Float64})\n",
      "   @ Main ~/Documents/Code/Polya_tree/ddp_gibbs.jl:258\n",
      " [2] top-level scope\n",
      "   @ ~/Documents/Code/Polya_tree/Simulation.ipynb:1"
     ]
    }
   ],
   "source": [
    "bosque = grow_trees(9, X[:, [3, 4, 5, 2]], probs, 2)\n",
    "import Statistics.median\n",
    "median_bosque = mapslices(median_tree, bosque, dims=1)\n",
    "medians = [get_quantile(bosque[1, i], 0.75) for i in 1:size(bosque, 2)]"
   ]
  },
  {
   "cell_type": "code",
   "execution_count": 39,
   "metadata": {},
   "outputs": [
    {
     "data": {
      "text/plain": [
       "60×3 Matrix{Float64}:\n",
       " 0.327691  1.0  0.327691\n",
       " 0.235715  1.0  0.235715\n",
       " 0.33035   1.0  0.33035\n",
       " 0.357611  1.0  0.357611\n",
       " 0.237301  1.0  0.237301\n",
       " 0.288565  1.0  0.288565\n",
       " 0.304061  1.0  0.304061\n",
       " 0.269134  1.0  0.269134\n",
       " 0.291613  1.0  0.291613\n",
       " 0.266364  1.0  0.266364\n",
       " ⋮              \n",
       " 0.255948  1.0  0.255948\n",
       " 0.357418  1.0  0.357418\n",
       " 0.290748  1.0  0.290748\n",
       " 0.260907  1.0  0.260907\n",
       " 0.292994  1.0  0.292994\n",
       " 0.350268  1.0  0.350268\n",
       " 0.395262  1.0  0.395262\n",
       " 0.239232  1.0  0.239232\n",
       " 0.318062  1.0  0.318062"
      ]
     },
     "metadata": {},
     "output_type": "display_data"
    }
   ],
   "source": [
    "mean_probs = hcat(estimate_probs(ch_5, X), estimate_probs(ch_25, X))\n",
    "mean_probs = hcat(mean_probs[:,2], mean_probs)"
   ]
  },
  {
   "cell_type": "code",
   "execution_count": 13,
   "metadata": {},
   "outputs": [
    {
     "name": "stderr",
     "output_type": "stream",
     "text": [
      "\r0.0%┣                                                ┫ 0/8 [00:00<00:00, -0s/it]\n",
      "\u001b[1A"
     ]
    },
    {
     "name": "stderr",
     "output_type": "stream",
     "text": [
      "\r12.5%┣█████▍                                     ┫ 1/8 [00:00<Inf:Inf, InfGs/it]\n",
      "\u001b[1A"
     ]
    },
    {
     "name": "stderr",
     "output_type": "stream",
     "text": [
      "\r25.0%┣████████████                                    ┫ 2/8 [00:00<00:02, 3it/s]\n",
      "\u001b[1A"
     ]
    },
    {
     "name": "stderr",
     "output_type": "stream",
     "text": [
      "\r37.5%┣██████████████████                              ┫ 3/8 [00:00<00:01, 4it/s]\n",
      "\u001b[1A"
     ]
    },
    {
     "name": "stderr",
     "output_type": "stream",
     "text": [
      "\r50.0%┣████████████████████████                        ┫ 4/8 [00:01<00:01, 3it/s]\n",
      "\u001b[1A"
     ]
    },
    {
     "name": "stderr",
     "output_type": "stream",
     "text": [
      "\r62.5%┣██████████████████████████████                  ┫ 5/8 [00:02<00:01, 2it/s]\n",
      "\u001b[1A"
     ]
    },
    {
     "name": "stderr",
     "output_type": "stream",
     "text": [
      "\r75.0%┣████████████████████████████████████            ┫ 6/8 [00:03<00:01, 2it/s]\n",
      "\u001b[1A"
     ]
    },
    {
     "name": "stderr",
     "output_type": "stream",
     "text": [
      "\r87.5%┣██████████████████████████████████████████      ┫ 7/8 [00:06<00:01, 1s/it]\n",
      "\u001b[1A"
     ]
    },
    {
     "name": "stderr",
     "output_type": "stream",
     "text": [
      "\r100.0%┣███████████████████████████████████████████████┫ 8/8 [00:13<00:00, 2s/it]\n",
      "\u001b[1A\r100.0%┣███████████████████████████████████████████████┫ 8/8 [00:13<00:00, 2s/it]\n"
     ]
    },
    {
     "data": {
      "image/png": "[encoded data removed]",
      "image/svg+xml": [
       "<?xml version=\"1.0\" encoding=\"utf-8\"?>\n",
       "<svg xmlns=\"http://www.w3.org/2000/svg\" xmlns:xlink=\"http://www.w3.org/1999/xlink\" width=\"600\" height=\"400\" viewBox=\"0 0 2400 1600\">\n",
       "<defs>\n",
       "  <clipPath id=\"clip140\">\n",
       "    <rect x=\"0\" y=\"0\" width=\"2400\" height=\"1600\"/>\n",
       "  </clipPath>\n",
       "</defs>\n",
       "<path clip-path=\"url(#clip140)\" d=\"M0 1600 L2400 1600 L2400 0 L0 0  Z\" fill=\"#ffffff\" fill-rule=\"evenodd\" fill-opacity=\"1\"/>\n",
       "<defs>\n",
       "  <clipPath id=\"clip141\">\n",
       "    <rect x=\"480\" y=\"0\" width=\"1681\" height=\"1600\"/>\n",
       "  </clipPath>\n",
       "</defs>\n",
       "<path clip-path=\"url(#clip140)\" d=\"M172.015 1486.45 L2352.76 1486.45 L2352.76 47.2441 L172.015 47.2441  Z\" fill=\"#ffffff\" fill-rule=\"evenodd\" fill-opacity=\"1\"/>\n",
       "<defs>\n",
       "  <clipPath id=\"clip142\">\n",
       "    <rect x=\"172\" y=\"47\" width=\"2182\" height=\"1440\"/>\n",
       "  </clipPath>\n",
       "</defs>\n",
       "<polyline clip-path=\"url(#clip142)\" style=\"stroke:#000000; stroke-linecap:round; stroke-linejoin:round; stroke-width:2; stroke-opacity:0.1; fill:none\" points=\"690.912,1486.45 690.912,47.2441 \"/>\n",
       "<polyline clip-path=\"url(#clip142)\" style=\"stroke:#000000; stroke-linecap:round; stroke-linejoin:round; stroke-width:2; stroke-opacity:0.1; fill:none\" points=\"1833.86,1486.45 1833.86,47.2441 \"/>\n",
       "<polyline clip-path=\"url(#clip140)\" style=\"stroke:#000000; stroke-linecap:round; stroke-linejoin:round; stroke-width:4; stroke-opacity:1; fill:none\" points=\"172.015,1486.45 2352.76,1486.45 \"/>\n",
       "<polyline clip-path=\"url(#clip140)\" style=\"stroke:#000000; stroke-linecap:round; stroke-linejoin:round; stroke-width:4; stroke-opacity:1; fill:none\" points=\"690.912,1486.45 690.912,1467.55 \"/>\n",
       "<polyline clip-path=\"url(#clip140)\" style=\"stroke:#000000; stroke-linecap:round; stroke-linejoin:round; stroke-width:4; stroke-opacity:1; fill:none\" points=\"1833.86,1486.45 1833.86,1467.55 \"/>\n",
       "<path clip-path=\"url(#clip140)\" d=\"M668.297 1517.37 Q664.686 1517.37 662.857 1520.93 Q661.051 1524.47 661.051 1531.6 Q661.051 1538.71 662.857 1542.27 Q664.686 1545.82 668.297 1545.82 Q671.931 1545.82 673.736 1542.27 Q675.565 1538.71 675.565 1531.6 Q675.565 1524.47 673.736 1520.93 Q671.931 1517.37 668.297 1517.37 M668.297 1513.66 Q674.107 1513.66 677.162 1518.27 Q680.241 1522.85 680.241 1531.6 Q680.241 1540.33 677.162 1544.94 Q674.107 1549.52 668.297 1549.52 Q662.487 1549.52 659.408 1544.94 Q656.352 1540.33 656.352 1531.6 Q656.352 1522.85 659.408 1518.27 Q662.487 1513.66 668.297 1513.66 Z\" fill=\"#000000\" fill-rule=\"nonzero\" fill-opacity=\"1\" /><path clip-path=\"url(#clip140)\" d=\"M688.459 1542.97 L693.343 1542.97 L693.343 1548.85 L688.459 1548.85 L688.459 1542.97 Z\" fill=\"#000000\" fill-rule=\"nonzero\" fill-opacity=\"1\" /><path clip-path=\"url(#clip140)\" d=\"M713.528 1517.37 Q709.917 1517.37 708.088 1520.93 Q706.283 1524.47 706.283 1531.6 Q706.283 1538.71 708.088 1542.27 Q709.917 1545.82 713.528 1545.82 Q717.162 1545.82 718.968 1542.27 Q720.796 1538.71 720.796 1531.6 Q720.796 1524.47 718.968 1520.93 Q717.162 1517.37 713.528 1517.37 M713.528 1513.66 Q719.338 1513.66 722.394 1518.27 Q725.472 1522.85 725.472 1531.6 Q725.472 1540.33 722.394 1544.94 Q719.338 1549.52 713.528 1549.52 Q707.718 1549.52 704.639 1544.94 Q701.584 1540.33 701.584 1531.6 Q701.584 1522.85 704.639 1518.27 Q707.718 1513.66 713.528 1513.66 Z\" fill=\"#000000\" fill-rule=\"nonzero\" fill-opacity=\"1\" /><path clip-path=\"url(#clip140)\" d=\"M1801.01 1544.91 L1808.65 1544.91 L1808.65 1518.55 L1800.34 1520.21 L1800.34 1515.95 L1808.6 1514.29 L1813.28 1514.29 L1813.28 1544.91 L1820.92 1544.91 L1820.92 1548.85 L1801.01 1548.85 L1801.01 1544.91 Z\" fill=\"#000000\" fill-rule=\"nonzero\" fill-opacity=\"1\" /><path clip-path=\"url(#clip140)\" d=\"M1830.36 1542.97 L1835.25 1542.97 L1835.25 1548.85 L1830.36 1548.85 L1830.36 1542.97 Z\" fill=\"#000000\" fill-rule=\"nonzero\" fill-opacity=\"1\" /><path clip-path=\"url(#clip140)\" d=\"M1855.43 1517.37 Q1851.82 1517.37 1849.99 1520.93 Q1848.19 1524.47 1848.19 1531.6 Q1848.19 1538.71 1849.99 1542.27 Q1851.82 1545.82 1855.43 1545.82 Q1859.07 1545.82 1860.87 1542.27 Q1862.7 1538.71 1862.7 1531.6 Q1862.7 1524.47 1860.87 1520.93 Q1859.07 1517.37 1855.43 1517.37 M1855.43 1513.66 Q1861.24 1513.66 1864.3 1518.27 Q1867.38 1522.85 1867.38 1531.6 Q1867.38 1540.33 1864.3 1544.94 Q1861.24 1549.52 1855.43 1549.52 Q1849.62 1549.52 1846.54 1544.94 Q1843.49 1540.33 1843.49 1531.6 Q1843.49 1522.85 1846.54 1518.27 Q1849.62 1513.66 1855.43 1513.66 Z\" fill=\"#000000\" fill-rule=\"nonzero\" fill-opacity=\"1\" /><polyline clip-path=\"url(#clip142)\" style=\"stroke:#000000; stroke-linecap:round; stroke-linejoin:round; stroke-width:2; stroke-opacity:0.1; fill:none\" points=\"172.015,1464.72 2352.76,1464.72 \"/>\n",
       "<polyline clip-path=\"url(#clip142)\" style=\"stroke:#000000; stroke-linecap:round; stroke-linejoin:round; stroke-width:2; stroke-opacity:0.1; fill:none\" points=\"172.015,1193.74 2352.76,1193.74 \"/>\n",
       "<polyline clip-path=\"url(#clip142)\" style=\"stroke:#000000; stroke-linecap:round; stroke-linejoin:round; stroke-width:2; stroke-opacity:0.1; fill:none\" points=\"172.015,922.753 2352.76,922.753 \"/>\n",
       "<polyline clip-path=\"url(#clip142)\" style=\"stroke:#000000; stroke-linecap:round; stroke-linejoin:round; stroke-width:2; stroke-opacity:0.1; fill:none\" points=\"172.015,651.768 2352.76,651.768 \"/>\n",
       "<polyline clip-path=\"url(#clip142)\" style=\"stroke:#000000; stroke-linecap:round; stroke-linejoin:round; stroke-width:2; stroke-opacity:0.1; fill:none\" points=\"172.015,380.783 2352.76,380.783 \"/>\n",
       "<polyline clip-path=\"url(#clip142)\" style=\"stroke:#000000; stroke-linecap:round; stroke-linejoin:round; stroke-width:2; stroke-opacity:0.1; fill:none\" points=\"172.015,109.798 2352.76,109.798 \"/>\n",
       "<polyline clip-path=\"url(#clip140)\" style=\"stroke:#000000; stroke-linecap:round; stroke-linejoin:round; stroke-width:4; stroke-opacity:1; fill:none\" points=\"172.015,1486.45 172.015,47.2441 \"/>\n",
       "<polyline clip-path=\"url(#clip140)\" style=\"stroke:#000000; stroke-linecap:round; stroke-linejoin:round; stroke-width:4; stroke-opacity:1; fill:none\" points=\"172.015,1464.72 190.912,1464.72 \"/>\n",
       "<polyline clip-path=\"url(#clip140)\" style=\"stroke:#000000; stroke-linecap:round; stroke-linejoin:round; stroke-width:4; stroke-opacity:1; fill:none\" points=\"172.015,1193.74 190.912,1193.74 \"/>\n",
       "<polyline clip-path=\"url(#clip140)\" style=\"stroke:#000000; stroke-linecap:round; stroke-linejoin:round; stroke-width:4; stroke-opacity:1; fill:none\" points=\"172.015,922.753 190.912,922.753 \"/>\n",
       "<polyline clip-path=\"url(#clip140)\" style=\"stroke:#000000; stroke-linecap:round; stroke-linejoin:round; stroke-width:4; stroke-opacity:1; fill:none\" points=\"172.015,651.768 190.912,651.768 \"/>\n",
       "<polyline clip-path=\"url(#clip140)\" style=\"stroke:#000000; stroke-linecap:round; stroke-linejoin:round; stroke-width:4; stroke-opacity:1; fill:none\" points=\"172.015,380.783 190.912,380.783 \"/>\n",
       "<polyline clip-path=\"url(#clip140)\" style=\"stroke:#000000; stroke-linecap:round; stroke-linejoin:round; stroke-width:4; stroke-opacity:1; fill:none\" points=\"172.015,109.798 190.912,109.798 \"/>\n",
       "<path clip-path=\"url(#clip140)\" d=\"M124.07 1450.52 Q120.459 1450.52 118.631 1454.09 Q116.825 1457.63 116.825 1464.76 Q116.825 1471.86 118.631 1475.43 Q120.459 1478.97 124.07 1478.97 Q127.705 1478.97 129.51 1475.43 Q131.339 1471.86 131.339 1464.76 Q131.339 1457.63 129.51 1454.09 Q127.705 1450.52 124.07 1450.52 M124.07 1446.82 Q129.881 1446.82 132.936 1451.42 Q136.015 1456.01 136.015 1464.76 Q136.015 1473.48 132.936 1478.09 Q129.881 1482.67 124.07 1482.67 Q118.26 1482.67 115.182 1478.09 Q112.126 1473.48 112.126 1464.76 Q112.126 1456.01 115.182 1451.42 Q118.26 1446.82 124.07 1446.82 Z\" fill=\"#000000\" fill-rule=\"nonzero\" fill-opacity=\"1\" /><path clip-path=\"url(#clip140)\" d=\"M54.5569 1207.08 L62.1958 1207.08 L62.1958 1180.72 L53.8856 1182.38 L53.8856 1178.12 L62.1495 1176.46 L66.8254 1176.46 L66.8254 1207.08 L74.4642 1207.08 L74.4642 1211.02 L54.5569 1211.02 L54.5569 1207.08 Z\" fill=\"#000000\" fill-rule=\"nonzero\" fill-opacity=\"1\" /><path clip-path=\"url(#clip140)\" d=\"M93.9086 1179.54 Q90.2975 1179.54 88.4688 1183.1 Q86.6632 1186.64 86.6632 1193.77 Q86.6632 1200.88 88.4688 1204.44 Q90.2975 1207.99 93.9086 1207.99 Q97.5428 1207.99 99.3483 1204.44 Q101.177 1200.88 101.177 1193.77 Q101.177 1186.64 99.3483 1183.1 Q97.5428 1179.54 93.9086 1179.54 M93.9086 1175.83 Q99.7187 1175.83 102.774 1180.44 Q105.853 1185.02 105.853 1193.77 Q105.853 1202.5 102.774 1207.11 Q99.7187 1211.69 93.9086 1211.69 Q88.0984 1211.69 85.0197 1207.11 Q81.9642 1202.5 81.9642 1193.77 Q81.9642 1185.02 85.0197 1180.44 Q88.0984 1175.83 93.9086 1175.83 Z\" fill=\"#000000\" fill-rule=\"nonzero\" fill-opacity=\"1\" /><path clip-path=\"url(#clip140)\" d=\"M124.07 1179.54 Q120.459 1179.54 118.631 1183.1 Q116.825 1186.64 116.825 1193.77 Q116.825 1200.88 118.631 1204.44 Q120.459 1207.99 124.07 1207.99 Q127.705 1207.99 129.51 1204.44 Q131.339 1200.88 131.339 1193.77 Q131.339 1186.64 129.51 1183.1 Q127.705 1179.54 124.07 1179.54 M124.07 1175.83 Q129.881 1175.83 132.936 1180.44 Q136.015 1185.02 136.015 1193.77 Q136.015 1202.5 132.936 1207.11 Q129.881 1211.69 124.07 1211.69 Q118.26 1211.69 115.182 1207.11 Q112.126 1202.5 112.126 1193.77 Q112.126 1185.02 115.182 1180.44 Q118.26 1175.83 124.07 1175.83 Z\" fill=\"#000000\" fill-rule=\"nonzero\" fill-opacity=\"1\" /><path clip-path=\"url(#clip140)\" d=\"M57.7745 936.098 L74.0939 936.098 L74.0939 940.033 L52.1495 940.033 L52.1495 936.098 Q54.8115 933.343 59.3949 928.713 Q64.0013 924.061 65.1819 922.718 Q67.4272 920.195 68.3068 918.459 Q69.2096 916.7 69.2096 915.01 Q69.2096 912.255 67.2652 910.519 Q65.3439 908.783 62.2421 908.783 Q60.043 908.783 57.5893 909.547 Q55.1588 910.311 52.381 911.862 L52.381 907.139 Q55.2051 906.005 57.6588 905.427 Q60.1124 904.848 62.1495 904.848 Q67.5198 904.848 70.7142 907.533 Q73.9087 910.218 73.9087 914.709 Q73.9087 916.838 73.0985 918.76 Q72.3115 920.658 70.205 923.251 Q69.6263 923.922 66.5245 927.139 Q63.4226 930.334 57.7745 936.098 Z\" fill=\"#000000\" fill-rule=\"nonzero\" fill-opacity=\"1\" /><path clip-path=\"url(#clip140)\" d=\"M93.9086 908.552 Q90.2975 908.552 88.4688 912.116 Q86.6632 915.658 86.6632 922.788 Q86.6632 929.894 88.4688 933.459 Q90.2975 937 93.9086 937 Q97.5428 937 99.3483 933.459 Q101.177 929.894 101.177 922.788 Q101.177 915.658 99.3483 912.116 Q97.5428 908.552 93.9086 908.552 M93.9086 904.848 Q99.7187 904.848 102.774 909.454 Q105.853 914.038 105.853 922.788 Q105.853 931.514 102.774 936.121 Q99.7187 940.704 93.9086 940.704 Q88.0984 940.704 85.0197 936.121 Q81.9642 931.514 81.9642 922.788 Q81.9642 914.038 85.0197 909.454 Q88.0984 904.848 93.9086 904.848 Z\" fill=\"#000000\" fill-rule=\"nonzero\" fill-opacity=\"1\" /><path clip-path=\"url(#clip140)\" d=\"M124.07 908.552 Q120.459 908.552 118.631 912.116 Q116.825 915.658 116.825 922.788 Q116.825 929.894 118.631 933.459 Q120.459 937 124.07 937 Q127.705 937 129.51 933.459 Q131.339 929.894 131.339 922.788 Q131.339 915.658 129.51 912.116 Q127.705 908.552 124.07 908.552 M124.07 904.848 Q129.881 904.848 132.936 909.454 Q136.015 914.038 136.015 922.788 Q136.015 931.514 132.936 936.121 Q129.881 940.704 124.07 940.704 Q118.26 940.704 115.182 936.121 Q112.126 931.514 112.126 922.788 Q112.126 914.038 115.182 909.454 Q118.26 904.848 124.07 904.848 Z\" fill=\"#000000\" fill-rule=\"nonzero\" fill-opacity=\"1\" /><path clip-path=\"url(#clip140)\" d=\"M67.9133 650.414 Q71.2698 651.131 73.1448 653.4 Q75.0429 655.668 75.0429 659.002 Q75.0429 664.117 71.5244 666.918 Q68.0059 669.719 61.5245 669.719 Q59.3486 669.719 57.0338 669.279 Q54.7421 668.863 52.2884 668.006 L52.2884 663.492 Q54.2328 664.627 56.5477 665.205 Q58.8625 665.784 61.3856 665.784 Q65.7837 665.784 68.0754 664.048 Q70.3902 662.312 70.3902 659.002 Q70.3902 655.946 68.2374 654.233 Q66.1078 652.497 62.2884 652.497 L58.2606 652.497 L58.2606 648.654 L62.4735 648.654 Q65.9226 648.654 67.7513 647.289 Q69.58 645.9 69.58 643.307 Q69.58 640.645 67.6819 639.233 Q65.8069 637.798 62.2884 637.798 Q60.3671 637.798 58.168 638.215 Q55.969 638.631 53.3301 639.511 L53.3301 635.344 Q55.9921 634.604 58.3069 634.233 Q60.6449 633.863 62.705 633.863 Q68.0291 633.863 71.1309 636.293 Q74.2327 638.701 74.2327 642.821 Q74.2327 645.692 72.5892 647.682 Q70.9457 649.65 67.9133 650.414 Z\" fill=\"#000000\" fill-rule=\"nonzero\" fill-opacity=\"1\" /><path clip-path=\"url(#clip140)\" d=\"M93.9086 637.567 Q90.2975 637.567 88.4688 641.131 Q86.6632 644.673 86.6632 651.803 Q86.6632 658.909 88.4688 662.474 Q90.2975 666.015 93.9086 666.015 Q97.5428 666.015 99.3483 662.474 Q101.177 658.909 101.177 651.803 Q101.177 644.673 99.3483 641.131 Q97.5428 637.567 93.9086 637.567 M93.9086 633.863 Q99.7187 633.863 102.774 638.469 Q105.853 643.053 105.853 651.803 Q105.853 660.529 102.774 665.136 Q99.7187 669.719 93.9086 669.719 Q88.0984 669.719 85.0197 665.136 Q81.9642 660.529 81.9642 651.803 Q81.9642 643.053 85.0197 638.469 Q88.0984 633.863 93.9086 633.863 Z\" fill=\"#000000\" fill-rule=\"nonzero\" fill-opacity=\"1\" /><path clip-path=\"url(#clip140)\" d=\"M124.07 637.567 Q120.459 637.567 118.631 641.131 Q116.825 644.673 116.825 651.803 Q116.825 658.909 118.631 662.474 Q120.459 666.015 124.07 666.015 Q127.705 666.015 129.51 662.474 Q131.339 658.909 131.339 651.803 Q131.339 644.673 129.51 641.131 Q127.705 637.567 124.07 637.567 M124.07 633.863 Q129.881 633.863 132.936 638.469 Q136.015 643.053 136.015 651.803 Q136.015 660.529 132.936 665.136 Q129.881 669.719 124.07 669.719 Q118.26 669.719 115.182 665.136 Q112.126 660.529 112.126 651.803 Q112.126 643.053 115.182 638.469 Q118.26 633.863 124.07 633.863 Z\" fill=\"#000000\" fill-rule=\"nonzero\" fill-opacity=\"1\" /><path clip-path=\"url(#clip140)\" d=\"M66.5939 367.577 L54.7884 386.026 L66.5939 386.026 L66.5939 367.577 M65.367 363.503 L71.2466 363.503 L71.2466 386.026 L76.1772 386.026 L76.1772 389.915 L71.2466 389.915 L71.2466 398.063 L66.5939 398.063 L66.5939 389.915 L50.9921 389.915 L50.9921 385.401 L65.367 363.503 Z\" fill=\"#000000\" fill-rule=\"nonzero\" fill-opacity=\"1\" /><path clip-path=\"url(#clip140)\" d=\"M93.9086 366.582 Q90.2975 366.582 88.4688 370.146 Q86.6632 373.688 86.6632 380.818 Q86.6632 387.924 88.4688 391.489 Q90.2975 395.031 93.9086 395.031 Q97.5428 395.031 99.3483 391.489 Q101.177 387.924 101.177 380.818 Q101.177 373.688 99.3483 370.146 Q97.5428 366.582 93.9086 366.582 M93.9086 362.878 Q99.7187 362.878 102.774 367.484 Q105.853 372.068 105.853 380.818 Q105.853 389.544 102.774 394.151 Q99.7187 398.734 93.9086 398.734 Q88.0984 398.734 85.0197 394.151 Q81.9642 389.544 81.9642 380.818 Q81.9642 372.068 85.0197 367.484 Q88.0984 362.878 93.9086 362.878 Z\" fill=\"#000000\" fill-rule=\"nonzero\" fill-opacity=\"1\" /><path clip-path=\"url(#clip140)\" d=\"M124.07 366.582 Q120.459 366.582 118.631 370.146 Q116.825 373.688 116.825 380.818 Q116.825 387.924 118.631 391.489 Q120.459 395.031 124.07 395.031 Q127.705 395.031 129.51 391.489 Q131.339 387.924 131.339 380.818 Q131.339 373.688 129.51 370.146 Q127.705 366.582 124.07 366.582 M124.07 362.878 Q129.881 362.878 132.936 367.484 Q136.015 372.068 136.015 380.818 Q136.015 389.544 132.936 394.151 Q129.881 398.734 124.07 398.734 Q118.26 398.734 115.182 394.151 Q112.126 389.544 112.126 380.818 Q112.126 372.068 115.182 367.484 Q118.26 362.878 124.07 362.878 Z\" fill=\"#000000\" fill-rule=\"nonzero\" fill-opacity=\"1\" /><path clip-path=\"url(#clip140)\" d=\"M53.793 92.518 L72.1494 92.518 L72.1494 96.4531 L58.0754 96.4531 L58.0754 104.925 Q59.0939 104.578 60.1124 104.416 Q61.131 104.231 62.1495 104.231 Q67.9365 104.231 71.3161 107.402 Q74.6957 110.573 74.6957 115.99 Q74.6957 121.569 71.2235 124.671 Q67.7513 127.749 61.4319 127.749 Q59.256 127.749 56.9875 127.379 Q54.7421 127.009 52.3347 126.268 L52.3347 121.569 Q54.418 122.703 56.6402 123.259 Q58.8625 123.814 61.3393 123.814 Q65.3439 123.814 67.6819 121.708 Q70.0198 119.601 70.0198 115.99 Q70.0198 112.379 67.6819 110.273 Q65.3439 108.166 61.3393 108.166 Q59.4643 108.166 57.5893 108.583 Q55.7375 108.999 53.793 109.879 L53.793 92.518 Z\" fill=\"#000000\" fill-rule=\"nonzero\" fill-opacity=\"1\" /><path clip-path=\"url(#clip140)\" d=\"M93.9086 95.5967 Q90.2975 95.5967 88.4688 99.1615 Q86.6632 102.703 86.6632 109.833 Q86.6632 116.939 88.4688 120.504 Q90.2975 124.046 93.9086 124.046 Q97.5428 124.046 99.3483 120.504 Q101.177 116.939 101.177 109.833 Q101.177 102.703 99.3483 99.1615 Q97.5428 95.5967 93.9086 95.5967 M93.9086 91.893 Q99.7187 91.893 102.774 96.4994 Q105.853 101.083 105.853 109.833 Q105.853 118.56 102.774 123.166 Q99.7187 127.749 93.9086 127.749 Q88.0984 127.749 85.0197 123.166 Q81.9642 118.56 81.9642 109.833 Q81.9642 101.083 85.0197 96.4994 Q88.0984 91.893 93.9086 91.893 Z\" fill=\"#000000\" fill-rule=\"nonzero\" fill-opacity=\"1\" /><path clip-path=\"url(#clip140)\" d=\"M124.07 95.5967 Q120.459 95.5967 118.631 99.1615 Q116.825 102.703 116.825 109.833 Q116.825 116.939 118.631 120.504 Q120.459 124.046 124.07 124.046 Q127.705 124.046 129.51 120.504 Q131.339 116.939 131.339 109.833 Q131.339 102.703 129.51 99.1615 Q127.705 95.5967 124.07 95.5967 M124.07 91.893 Q129.881 91.893 132.936 96.4994 Q136.015 101.083 136.015 109.833 Q136.015 118.56 132.936 123.166 Q129.881 127.749 124.07 127.749 Q118.26 127.749 115.182 123.166 Q112.126 118.56 112.126 109.833 Q112.126 101.083 115.182 96.4994 Q118.26 91.893 124.07 91.893 Z\" fill=\"#000000\" fill-rule=\"nonzero\" fill-opacity=\"1\" /><path clip-path=\"url(#clip142)\" d=\"M690.912 1419.74 L462.323 1419.74 L919.502 1419.74 L690.912 1419.74 L690.912 1391.15 L690.912 1419.74  Z\" fill=\"#009af9\" fill-rule=\"evenodd\" fill-opacity=\"0.75\"/>\n",
       "<polyline clip-path=\"url(#clip142)\" style=\"stroke:#000000; stroke-linecap:round; stroke-linejoin:round; stroke-width:4; stroke-opacity:1; fill:none\" points=\"690.912,1419.74 462.323,1419.74 919.502,1419.74 690.912,1419.74 690.912,1391.15 690.912,1419.74 \"/>\n",
       "<path clip-path=\"url(#clip142)\" d=\"M1148.09 1391.15 L1148.09 1373.4 L233.734 1373.4 L233.734 1391.15 L1148.09 1391.15 L1148.09 1373.4 L1148.09 1391.15  Z\" fill=\"#009af9\" fill-rule=\"evenodd\" fill-opacity=\"0.75\"/>\n",
       "<polyline clip-path=\"url(#clip142)\" style=\"stroke:#000000; stroke-linecap:round; stroke-linejoin:round; stroke-width:4; stroke-opacity:1; fill:none\" points=\"1148.09,1391.15 1148.09,1373.4 233.734,1373.4 233.734,1391.15 1148.09,1391.15 1148.09,1373.4 1148.09,1391.15 \"/>\n",
       "<path clip-path=\"url(#clip142)\" d=\"M1148.09 1311.24 L233.734 1311.24 L233.734 1373.4 L1148.09 1373.4 L1148.09 1311.24 L690.912 1311.24 L1148.09 1311.24  Z\" fill=\"#009af9\" fill-rule=\"evenodd\" fill-opacity=\"0.75\"/>\n",
       "<polyline clip-path=\"url(#clip142)\" style=\"stroke:#000000; stroke-linecap:round; stroke-linejoin:round; stroke-width:4; stroke-opacity:1; fill:none\" points=\"1148.09,1311.24 233.734,1311.24 233.734,1373.4 1148.09,1373.4 1148.09,1311.24 690.912,1311.24 1148.09,1311.24 \"/>\n",
       "<path clip-path=\"url(#clip142)\" d=\"M690.912 1212.3 L462.323 1212.3 L919.502 1212.3 L690.912 1212.3 L690.912 1311.24 L690.912 1212.3  Z\" fill=\"#009af9\" fill-rule=\"evenodd\" fill-opacity=\"0.75\"/>\n",
       "<polyline clip-path=\"url(#clip142)\" style=\"stroke:#000000; stroke-linecap:round; stroke-linejoin:round; stroke-width:4; stroke-opacity:1; fill:none\" points=\"690.912,1212.3 462.323,1212.3 919.502,1212.3 690.912,1212.3 690.912,1311.24 690.912,1212.3 \"/>\n",
       "<path clip-path=\"url(#clip142)\" d=\"M1833.86 1414.11 L1605.27 1414.11 L2062.45 1414.11 L1833.86 1414.11 L1833.86 1377.78 L1833.86 1414.11  Z\" fill=\"#009af9\" fill-rule=\"evenodd\" fill-opacity=\"0.75\"/>\n",
       "<polyline clip-path=\"url(#clip142)\" style=\"stroke:#000000; stroke-linecap:round; stroke-linejoin:round; stroke-width:4; stroke-opacity:1; fill:none\" points=\"1833.86,1414.11 1605.27,1414.11 2062.45,1414.11 1833.86,1414.11 1833.86,1377.78 1833.86,1414.11 \"/>\n",
       "<path clip-path=\"url(#clip142)\" d=\"M2291.04 1377.78 L2291.04 1329.99 L1376.68 1329.99 L1376.68 1377.78 L2291.04 1377.78 L2291.04 1329.99 L2291.04 1377.78  Z\" fill=\"#009af9\" fill-rule=\"evenodd\" fill-opacity=\"0.75\"/>\n",
       "<polyline clip-path=\"url(#clip142)\" style=\"stroke:#000000; stroke-linecap:round; stroke-linejoin:round; stroke-width:4; stroke-opacity:1; fill:none\" points=\"2291.04,1377.78 2291.04,1329.99 1376.68,1329.99 1376.68,1377.78 2291.04,1377.78 2291.04,1329.99 2291.04,1377.78 \"/>\n",
       "<path clip-path=\"url(#clip142)\" d=\"M2291.04 1111.12 L1376.68 1111.12 L1376.68 1329.99 L2291.04 1329.99 L2291.04 1111.12 L1833.86 1111.12 L2291.04 1111.12  Z\" fill=\"#009af9\" fill-rule=\"evenodd\" fill-opacity=\"0.75\"/>\n",
       "<polyline clip-path=\"url(#clip142)\" style=\"stroke:#000000; stroke-linecap:round; stroke-linejoin:round; stroke-width:4; stroke-opacity:1; fill:none\" points=\"2291.04,1111.12 1376.68,1111.12 1376.68,1329.99 2291.04,1329.99 2291.04,1111.12 1833.86,1111.12 2291.04,1111.12 \"/>\n",
       "<path clip-path=\"url(#clip142)\" d=\"M1833.86 887.234 L1605.27 887.234 L2062.45 887.234 L1833.86 887.234 L1833.86 1111.12 L1833.86 887.234  Z\" fill=\"#009af9\" fill-rule=\"evenodd\" fill-opacity=\"0.75\"/>\n",
       "<polyline clip-path=\"url(#clip142)\" style=\"stroke:#000000; stroke-linecap:round; stroke-linejoin:round; stroke-width:4; stroke-opacity:1; fill:none\" points=\"1833.86,887.234 1605.27,887.234 2062.45,887.234 1833.86,887.234 1833.86,1111.12 1833.86,887.234 \"/>\n",
       "<circle clip-path=\"url(#clip142)\" cx=\"690.912\" cy=\"1014.9\" r=\"14.4\" fill=\"#009af9\" fill-rule=\"evenodd\" fill-opacity=\"1\" stroke=\"#000000\" stroke-opacity=\"1\" stroke-width=\"3.2\"/>\n",
       "<circle clip-path=\"url(#clip142)\" cx=\"1833.86\" cy=\"98.3931\" r=\"14.4\" fill=\"#009af9\" fill-rule=\"evenodd\" fill-opacity=\"1\" stroke=\"#000000\" stroke-opacity=\"1\" stroke-width=\"3.2\"/>\n",
       "<circle clip-path=\"url(#clip142)\" cx=\"1833.86\" cy=\"287.288\" r=\"14.4\" fill=\"#009af9\" fill-rule=\"evenodd\" fill-opacity=\"1\" stroke=\"#000000\" stroke-opacity=\"1\" stroke-width=\"3.2\"/>\n",
       "<circle clip-path=\"url(#clip142)\" cx=\"1833.86\" cy=\"87.9763\" r=\"14.4\" fill=\"#009af9\" fill-rule=\"evenodd\" fill-opacity=\"1\" stroke=\"#000000\" stroke-opacity=\"1\" stroke-width=\"3.2\"/>\n",
       "<circle clip-path=\"url(#clip142)\" cx=\"1833.86\" cy=\"279.051\" r=\"14.4\" fill=\"#009af9\" fill-rule=\"evenodd\" fill-opacity=\"1\" stroke=\"#000000\" stroke-opacity=\"1\" stroke-width=\"3.2\"/>\n",
       "<polyline clip-path=\"url(#clip142)\" style=\"stroke:#009af9; stroke-linecap:round; stroke-linejoin:round; stroke-width:0; stroke-opacity:1; fill:none\" points=\"690.912,1419.74 462.323,1419.74 919.502,1419.74 690.912,1419.74 690.912,1391.15 \"/>\n",
       "<polyline clip-path=\"url(#clip142)\" style=\"stroke:#009af9; stroke-linecap:round; stroke-linejoin:round; stroke-width:0; stroke-opacity:1; fill:none\" points=\"1148.09,1391.15 1148.09,1373.4 233.734,1373.4 233.734,1391.15 1148.09,1391.15 1148.09,1373.4 \"/>\n",
       "<polyline clip-path=\"url(#clip142)\" style=\"stroke:#009af9; stroke-linecap:round; stroke-linejoin:round; stroke-width:0; stroke-opacity:1; fill:none\" points=\"1148.09,1311.24 233.734,1311.24 233.734,1373.4 1148.09,1373.4 1148.09,1311.24 690.912,1311.24 \"/>\n",
       "<polyline clip-path=\"url(#clip142)\" style=\"stroke:#009af9; stroke-linecap:round; stroke-linejoin:round; stroke-width:0; stroke-opacity:1; fill:none\" points=\"690.912,1212.3 462.323,1212.3 919.502,1212.3 690.912,1212.3 690.912,1311.24 \"/>\n",
       "<polyline clip-path=\"url(#clip142)\" style=\"stroke:#009af9; stroke-linecap:round; stroke-linejoin:round; stroke-width:0; stroke-opacity:1; fill:none\" points=\"1833.86,1414.11 1605.27,1414.11 2062.45,1414.11 1833.86,1414.11 1833.86,1377.78 \"/>\n",
       "<polyline clip-path=\"url(#clip142)\" style=\"stroke:#009af9; stroke-linecap:round; stroke-linejoin:round; stroke-width:0; stroke-opacity:1; fill:none\" points=\"2291.04,1377.78 2291.04,1329.99 1376.68,1329.99 1376.68,1377.78 2291.04,1377.78 2291.04,1329.99 \"/>\n",
       "<polyline clip-path=\"url(#clip142)\" style=\"stroke:#009af9; stroke-linecap:round; stroke-linejoin:round; stroke-width:0; stroke-opacity:1; fill:none\" points=\"2291.04,1111.12 1376.68,1111.12 1376.68,1329.99 2291.04,1329.99 2291.04,1111.12 1833.86,1111.12 \"/>\n",
       "<polyline clip-path=\"url(#clip142)\" style=\"stroke:#009af9; stroke-linecap:round; stroke-linejoin:round; stroke-width:0; stroke-opacity:1; fill:none\" points=\"1833.86,887.234 1605.27,887.234 2062.45,887.234 1833.86,887.234 1833.86,1111.12 \"/>\n",
       "<path clip-path=\"url(#clip142)\" d=\"M690.912 1445.72 L462.323 1445.72 L919.502 1445.72 L690.912 1445.72 L690.912 1436.69 L690.912 1445.72  Z\" fill=\"#e26f46\" fill-rule=\"evenodd\" fill-opacity=\"0.75\"/>\n",
       "<polyline clip-path=\"url(#clip142)\" style=\"stroke:#000000; stroke-linecap:round; stroke-linejoin:round; stroke-width:4; stroke-opacity:1; fill:none\" points=\"690.912,1445.72 462.323,1445.72 919.502,1445.72 690.912,1445.72 690.912,1436.69 690.912,1445.72 \"/>\n",
       "<path clip-path=\"url(#clip142)\" d=\"M1148.09 1436.69 L1148.09 1407.63 L233.734 1407.63 L233.734 1436.69 L1148.09 1436.69 L1148.09 1407.63 L1148.09 1436.69  Z\" fill=\"#e26f46\" fill-rule=\"evenodd\" fill-opacity=\"0.75\"/>\n",
       "<polyline clip-path=\"url(#clip142)\" style=\"stroke:#000000; stroke-linecap:round; stroke-linejoin:round; stroke-width:4; stroke-opacity:1; fill:none\" points=\"1148.09,1436.69 1148.09,1407.63 233.734,1407.63 233.734,1436.69 1148.09,1436.69 1148.09,1407.63 1148.09,1436.69 \"/>\n",
       "<path clip-path=\"url(#clip142)\" d=\"M1148.09 1359.86 L233.734 1359.86 L233.734 1407.63 L1148.09 1407.63 L1148.09 1359.86 L690.912 1359.86 L1148.09 1359.86  Z\" fill=\"#e26f46\" fill-rule=\"evenodd\" fill-opacity=\"0.75\"/>\n",
       "<polyline clip-path=\"url(#clip142)\" style=\"stroke:#000000; stroke-linecap:round; stroke-linejoin:round; stroke-width:4; stroke-opacity:1; fill:none\" points=\"1148.09,1359.86 233.734,1359.86 233.734,1407.63 1148.09,1407.63 1148.09,1359.86 690.912,1359.86 1148.09,1359.86 \"/>\n",
       "<path clip-path=\"url(#clip142)\" d=\"M690.912 1281.03 L462.323 1281.03 L919.502 1281.03 L690.912 1281.03 L690.912 1359.86 L690.912 1281.03  Z\" fill=\"#e26f46\" fill-rule=\"evenodd\" fill-opacity=\"0.75\"/>\n",
       "<polyline clip-path=\"url(#clip142)\" style=\"stroke:#000000; stroke-linecap:round; stroke-linejoin:round; stroke-width:4; stroke-opacity:1; fill:none\" points=\"690.912,1281.03 462.323,1281.03 919.502,1281.03 690.912,1281.03 690.912,1359.86 690.912,1281.03 \"/>\n",
       "<path clip-path=\"url(#clip142)\" d=\"M1833.86 1442.49 L1605.27 1442.49 L2062.45 1442.49 L1833.86 1442.49 L1833.86 1419.48 L1833.86 1442.49  Z\" fill=\"#e26f46\" fill-rule=\"evenodd\" fill-opacity=\"0.75\"/>\n",
       "<polyline clip-path=\"url(#clip142)\" style=\"stroke:#000000; stroke-linecap:round; stroke-linejoin:round; stroke-width:4; stroke-opacity:1; fill:none\" points=\"1833.86,1442.49 1605.27,1442.49 2062.45,1442.49 1833.86,1442.49 1833.86,1419.48 1833.86,1442.49 \"/>\n",
       "<path clip-path=\"url(#clip142)\" d=\"M2291.04 1419.48 L2291.04 1384.7 L1376.68 1384.7 L1376.68 1419.48 L2291.04 1419.48 L2291.04 1384.7 L2291.04 1419.48  Z\" fill=\"#e26f46\" fill-rule=\"evenodd\" fill-opacity=\"0.75\"/>\n",
       "<polyline clip-path=\"url(#clip142)\" style=\"stroke:#000000; stroke-linecap:round; stroke-linejoin:round; stroke-width:4; stroke-opacity:1; fill:none\" points=\"2291.04,1419.48 2291.04,1384.7 1376.68,1384.7 1376.68,1419.48 2291.04,1419.48 2291.04,1384.7 2291.04,1419.48 \"/>\n",
       "<path clip-path=\"url(#clip142)\" d=\"M2291.04 1256.69 L1376.68 1256.69 L1376.68 1384.7 L2291.04 1384.7 L2291.04 1256.69 L1833.86 1256.69 L2291.04 1256.69  Z\" fill=\"#e26f46\" fill-rule=\"evenodd\" fill-opacity=\"0.75\"/>\n",
       "<polyline clip-path=\"url(#clip142)\" style=\"stroke:#000000; stroke-linecap:round; stroke-linejoin:round; stroke-width:4; stroke-opacity:1; fill:none\" points=\"2291.04,1256.69 1376.68,1256.69 1376.68,1384.7 2291.04,1384.7 2291.04,1256.69 1833.86,1256.69 2291.04,1256.69 \"/>\n",
       "<path clip-path=\"url(#clip142)\" d=\"M1833.86 1051.66 L1605.27 1051.66 L2062.45 1051.66 L1833.86 1051.66 L1833.86 1256.69 L1833.86 1051.66  Z\" fill=\"#e26f46\" fill-rule=\"evenodd\" fill-opacity=\"0.75\"/>\n",
       "<polyline clip-path=\"url(#clip142)\" style=\"stroke:#000000; stroke-linecap:round; stroke-linejoin:round; stroke-width:4; stroke-opacity:1; fill:none\" points=\"1833.86,1051.66 1605.27,1051.66 2062.45,1051.66 1833.86,1051.66 1833.86,1256.69 1833.86,1051.66 \"/>\n",
       "<circle clip-path=\"url(#clip142)\" cx=\"690.912\" cy=\"1092.69\" r=\"14.4\" fill=\"#e26f46\" fill-rule=\"evenodd\" fill-opacity=\"1\" stroke=\"#000000\" stroke-opacity=\"1\" stroke-width=\"3.2\"/>\n",
       "<circle clip-path=\"url(#clip142)\" cx=\"1833.86\" cy=\"570.204\" r=\"14.4\" fill=\"#e26f46\" fill-rule=\"evenodd\" fill-opacity=\"1\" stroke=\"#000000\" stroke-opacity=\"1\" stroke-width=\"3.2\"/>\n",
       "<circle clip-path=\"url(#clip142)\" cx=\"1833.86\" cy=\"935.627\" r=\"14.4\" fill=\"#e26f46\" fill-rule=\"evenodd\" fill-opacity=\"1\" stroke=\"#000000\" stroke-opacity=\"1\" stroke-width=\"3.2\"/>\n",
       "<circle clip-path=\"url(#clip142)\" cx=\"1833.86\" cy=\"509.677\" r=\"14.4\" fill=\"#e26f46\" fill-rule=\"evenodd\" fill-opacity=\"1\" stroke=\"#000000\" stroke-opacity=\"1\" stroke-width=\"3.2\"/>\n",
       "<circle clip-path=\"url(#clip142)\" cx=\"1833.86\" cy=\"944.874\" r=\"14.4\" fill=\"#e26f46\" fill-rule=\"evenodd\" fill-opacity=\"1\" stroke=\"#000000\" stroke-opacity=\"1\" stroke-width=\"3.2\"/>\n",
       "<polyline clip-path=\"url(#clip142)\" style=\"stroke:#e26f46; stroke-linecap:round; stroke-linejoin:round; stroke-width:0; stroke-opacity:1; fill:none\" points=\"690.912,1445.72 462.323,1445.72 919.502,1445.72 690.912,1445.72 690.912,1436.69 \"/>\n",
       "<polyline clip-path=\"url(#clip142)\" style=\"stroke:#e26f46; stroke-linecap:round; stroke-linejoin:round; stroke-width:0; stroke-opacity:1; fill:none\" points=\"1148.09,1436.69 1148.09,1407.63 233.734,1407.63 233.734,1436.69 1148.09,1436.69 1148.09,1407.63 \"/>\n",
       "<polyline clip-path=\"url(#clip142)\" style=\"stroke:#e26f46; stroke-linecap:round; stroke-linejoin:round; stroke-width:0; stroke-opacity:1; fill:none\" points=\"1148.09,1359.86 233.734,1359.86 233.734,1407.63 1148.09,1407.63 1148.09,1359.86 690.912,1359.86 \"/>\n",
       "<polyline clip-path=\"url(#clip142)\" style=\"stroke:#e26f46; stroke-linecap:round; stroke-linejoin:round; stroke-width:0; stroke-opacity:1; fill:none\" points=\"690.912,1281.03 462.323,1281.03 919.502,1281.03 690.912,1281.03 690.912,1359.86 \"/>\n",
       "<polyline clip-path=\"url(#clip142)\" style=\"stroke:#e26f46; stroke-linecap:round; stroke-linejoin:round; stroke-width:0; stroke-opacity:1; fill:none\" points=\"1833.86,1442.49 1605.27,1442.49 2062.45,1442.49 1833.86,1442.49 1833.86,1419.48 \"/>\n",
       "<polyline clip-path=\"url(#clip142)\" style=\"stroke:#e26f46; stroke-linecap:round; stroke-linejoin:round; stroke-width:0; stroke-opacity:1; fill:none\" points=\"2291.04,1419.48 2291.04,1384.7 1376.68,1384.7 1376.68,1419.48 2291.04,1419.48 2291.04,1384.7 \"/>\n",
       "<polyline clip-path=\"url(#clip142)\" style=\"stroke:#e26f46; stroke-linecap:round; stroke-linejoin:round; stroke-width:0; stroke-opacity:1; fill:none\" points=\"2291.04,1256.69 1376.68,1256.69 1376.68,1384.7 2291.04,1384.7 2291.04,1256.69 1833.86,1256.69 \"/>\n",
       "<polyline clip-path=\"url(#clip142)\" style=\"stroke:#e26f46; stroke-linecap:round; stroke-linejoin:round; stroke-width:0; stroke-opacity:1; fill:none\" points=\"1833.86,1051.66 1605.27,1051.66 2062.45,1051.66 1833.86,1051.66 1833.86,1256.69 \"/>\n",
       "<path clip-path=\"url(#clip140)\" d=\"M244.706 250.738 L515.211 250.738 L515.211 95.2176 L244.706 95.2176  Z\" fill=\"#ffffff\" fill-rule=\"evenodd\" fill-opacity=\"1\"/>\n",
       "<polyline clip-path=\"url(#clip140)\" style=\"stroke:#000000; stroke-linecap:round; stroke-linejoin:round; stroke-width:4; stroke-opacity:1; fill:none\" points=\"244.706,250.738 515.211,250.738 515.211,95.2176 244.706,95.2176 244.706,250.738 \"/>\n",
       "<path clip-path=\"url(#clip140)\" d=\"M268.937 167.794 L414.319 167.794 L414.319 126.322 L268.937 126.322 L268.937 167.794  Z\" fill=\"#009af9\" fill-rule=\"evenodd\" fill-opacity=\"0.75\"/>\n",
       "<polyline clip-path=\"url(#clip140)\" style=\"stroke:#000000; stroke-linecap:round; stroke-linejoin:round; stroke-width:4; stroke-opacity:1; fill:none\" points=\"268.937,167.794 414.319,167.794 414.319,126.322 268.937,126.322 268.937,167.794 \"/>\n",
       "<path clip-path=\"url(#clip140)\" d=\"M452.392 166.745 Q450.587 171.375 448.874 172.787 Q447.161 174.199 444.291 174.199 L440.888 174.199 L440.888 170.634 L443.388 170.634 Q445.147 170.634 446.119 169.8 Q447.091 168.967 448.272 165.865 L449.036 163.921 L438.55 138.412 L443.064 138.412 L451.166 158.689 L459.267 138.412 L463.781 138.412 L452.392 166.745 Z\" fill=\"#000000\" fill-rule=\"nonzero\" fill-opacity=\"1\" /><path clip-path=\"url(#clip140)\" d=\"M471.073 160.402 L478.712 160.402 L478.712 134.037 L470.402 135.703 L470.402 131.444 L478.665 129.778 L483.341 129.778 L483.341 160.402 L490.98 160.402 L490.98 164.338 L471.073 164.338 L471.073 160.402 Z\" fill=\"#000000\" fill-rule=\"nonzero\" fill-opacity=\"1\" /><path clip-path=\"url(#clip140)\" d=\"M268.937 219.634 L414.319 219.634 L414.319 178.162 L268.937 178.162 L268.937 219.634  Z\" fill=\"#e26f46\" fill-rule=\"evenodd\" fill-opacity=\"0.75\"/>\n",
       "<polyline clip-path=\"url(#clip140)\" style=\"stroke:#000000; stroke-linecap:round; stroke-linejoin:round; stroke-width:4; stroke-opacity:1; fill:none\" points=\"268.937,219.634 414.319,219.634 414.319,178.162 268.937,178.162 268.937,219.634 \"/>\n",
       "<path clip-path=\"url(#clip140)\" d=\"M452.392 218.585 Q450.587 223.215 448.874 224.627 Q447.161 226.039 444.291 226.039 L440.888 226.039 L440.888 222.474 L443.388 222.474 Q445.147 222.474 446.119 221.64 Q447.091 220.807 448.272 217.705 L449.036 215.761 L438.55 190.252 L443.064 190.252 L451.166 210.529 L459.267 190.252 L463.781 190.252 L452.392 218.585 Z\" fill=\"#000000\" fill-rule=\"nonzero\" fill-opacity=\"1\" /><path clip-path=\"url(#clip140)\" d=\"M474.29 212.242 L490.61 212.242 L490.61 216.178 L468.665 216.178 L468.665 212.242 Q471.327 209.488 475.911 204.858 Q480.517 200.205 481.698 198.863 Q483.943 196.34 484.823 194.604 Q485.726 192.844 485.726 191.155 Q485.726 188.4 483.781 186.664 Q481.86 184.928 478.758 184.928 Q476.559 184.928 474.105 185.692 Q471.675 186.455 468.897 188.006 L468.897 183.284 Q471.721 182.15 474.175 181.571 Q476.628 180.993 478.665 180.993 Q484.036 180.993 487.23 183.678 Q490.425 186.363 490.425 190.854 Q490.425 192.983 489.614 194.905 Q488.827 196.803 486.721 199.395 Q486.142 200.067 483.04 203.284 Q479.939 206.479 474.29 212.242 Z\" fill=\"#000000\" fill-rule=\"nonzero\" fill-opacity=\"1\" /></svg>\n"
      ],
      "text/html": [
       "<?xml version=\"1.0\" encoding=\"utf-8\"?>\n",
       "<svg xmlns=\"http://www.w3.org/2000/svg\" xmlns:xlink=\"http://www.w3.org/1999/xlink\" width=\"600\" height=\"400\" viewBox=\"0 0 2400 1600\">\n",
       "<defs>\n",
       "  <clipPath id=\"clip190\">\n",
       "    <rect x=\"0\" y=\"0\" width=\"2400\" height=\"1600\"/>\n",
       "  </clipPath>\n",
       "</defs>\n",
       "<path clip-path=\"url(#clip190)\" d=\"M0 1600 L2400 1600 L2400 0 L0 0  Z\" fill=\"#ffffff\" fill-rule=\"evenodd\" fill-opacity=\"1\"/>\n",
       "<defs>\n",
       "  <clipPath id=\"clip191\">\n",
       "    <rect x=\"480\" y=\"0\" width=\"1681\" height=\"1600\"/>\n",
       "  </clipPath>\n",
       "</defs>\n",
       "<path clip-path=\"url(#clip190)\" d=\"M172.015 1486.45 L2352.76 1486.45 L2352.76 47.2441 L172.015 47.2441  Z\" fill=\"#ffffff\" fill-rule=\"evenodd\" fill-opacity=\"1\"/>\n",
       "<defs>\n",
       "  <clipPath id=\"clip192\">\n",
       "    <rect x=\"172\" y=\"47\" width=\"2182\" height=\"1440\"/>\n",
       "  </clipPath>\n",
       "</defs>\n",
       "<polyline clip-path=\"url(#clip192)\" style=\"stroke:#000000; stroke-linecap:round; stroke-linejoin:round; stroke-width:2; stroke-opacity:0.1; fill:none\" points=\"690.912,1486.45 690.912,47.2441 \"/>\n",
       "<polyline clip-path=\"url(#clip192)\" style=\"stroke:#000000; stroke-linecap:round; stroke-linejoin:round; stroke-width:2; stroke-opacity:0.1; fill:none\" points=\"1833.86,1486.45 1833.86,47.2441 \"/>\n",
       "<polyline clip-path=\"url(#clip190)\" style=\"stroke:#000000; stroke-linecap:round; stroke-linejoin:round; stroke-width:4; stroke-opacity:1; fill:none\" points=\"172.015,1486.45 2352.76,1486.45 \"/>\n",
       "<polyline clip-path=\"url(#clip190)\" style=\"stroke:#000000; stroke-linecap:round; stroke-linejoin:round; stroke-width:4; stroke-opacity:1; fill:none\" points=\"690.912,1486.45 690.912,1467.55 \"/>\n",
       "<polyline clip-path=\"url(#clip190)\" style=\"stroke:#000000; stroke-linecap:round; stroke-linejoin:round; stroke-width:4; stroke-opacity:1; fill:none\" points=\"1833.86,1486.45 1833.86,1467.55 \"/>\n",
       "<path clip-path=\"url(#clip190)\" d=\"M668.297 1517.37 Q664.686 1517.37 662.857 1520.93 Q661.051 1524.47 661.051 1531.6 Q661.051 1538.71 662.857 1542.27 Q664.686 1545.82 668.297 1545.82 Q671.931 1545.82 673.736 1542.27 Q675.565 1538.71 675.565 1531.6 Q675.565 1524.47 673.736 1520.93 Q671.931 1517.37 668.297 1517.37 M668.297 1513.66 Q674.107 1513.66 677.162 1518.27 Q680.241 1522.85 680.241 1531.6 Q680.241 1540.33 677.162 1544.94 Q674.107 1549.52 668.297 1549.52 Q662.487 1549.52 659.408 1544.94 Q656.352 1540.33 656.352 1531.6 Q656.352 1522.85 659.408 1518.27 Q662.487 1513.66 668.297 1513.66 Z\" fill=\"#000000\" fill-rule=\"nonzero\" fill-opacity=\"1\" /><path clip-path=\"url(#clip190)\" d=\"M688.459 1542.97 L693.343 1542.97 L693.343 1548.85 L688.459 1548.85 L688.459 1542.97 Z\" fill=\"#000000\" fill-rule=\"nonzero\" fill-opacity=\"1\" /><path clip-path=\"url(#clip190)\" d=\"M713.528 1517.37 Q709.917 1517.37 708.088 1520.93 Q706.283 1524.47 706.283 1531.6 Q706.283 1538.71 708.088 1542.27 Q709.917 1545.82 713.528 1545.82 Q717.162 1545.82 718.968 1542.27 Q720.796 1538.71 720.796 1531.6 Q720.796 1524.47 718.968 1520.93 Q717.162 1517.37 713.528 1517.37 M713.528 1513.66 Q719.338 1513.66 722.394 1518.27 Q725.472 1522.85 725.472 1531.6 Q725.472 1540.33 722.394 1544.94 Q719.338 1549.52 713.528 1549.52 Q707.718 1549.52 704.639 1544.94 Q701.584 1540.33 701.584 1531.6 Q701.584 1522.85 704.639 1518.27 Q707.718 1513.66 713.528 1513.66 Z\" fill=\"#000000\" fill-rule=\"nonzero\" fill-opacity=\"1\" /><path clip-path=\"url(#clip190)\" d=\"M1801.01 1544.91 L1808.65 1544.91 L1808.65 1518.55 L1800.34 1520.21 L1800.34 1515.95 L1808.6 1514.29 L1813.28 1514.29 L1813.28 1544.91 L1820.92 1544.91 L1820.92 1548.85 L1801.01 1548.85 L1801.01 1544.91 Z\" fill=\"#000000\" fill-rule=\"nonzero\" fill-opacity=\"1\" /><path clip-path=\"url(#clip190)\" d=\"M1830.36 1542.97 L1835.25 1542.97 L1835.25 1548.85 L1830.36 1548.85 L1830.36 1542.97 Z\" fill=\"#000000\" fill-rule=\"nonzero\" fill-opacity=\"1\" /><path clip-path=\"url(#clip190)\" d=\"M1855.43 1517.37 Q1851.82 1517.37 1849.99 1520.93 Q1848.19 1524.47 1848.19 1531.6 Q1848.19 1538.71 1849.99 1542.27 Q1851.82 1545.82 1855.43 1545.82 Q1859.07 1545.82 1860.87 1542.27 Q1862.7 1538.71 1862.7 1531.6 Q1862.7 1524.47 1860.87 1520.93 Q1859.07 1517.37 1855.43 1517.37 M1855.43 1513.66 Q1861.24 1513.66 1864.3 1518.27 Q1867.38 1522.85 1867.38 1531.6 Q1867.38 1540.33 1864.3 1544.94 Q1861.24 1549.52 1855.43 1549.52 Q1849.62 1549.52 1846.54 1544.94 Q1843.49 1540.33 1843.49 1531.6 Q1843.49 1522.85 1846.54 1518.27 Q1849.62 1513.66 1855.43 1513.66 Z\" fill=\"#000000\" fill-rule=\"nonzero\" fill-opacity=\"1\" /><polyline clip-path=\"url(#clip192)\" style=\"stroke:#000000; stroke-linecap:round; stroke-linejoin:round; stroke-width:2; stroke-opacity:0.1; fill:none\" points=\"172.015,1464.72 2352.76,1464.72 \"/>\n",
       "<polyline clip-path=\"url(#clip192)\" style=\"stroke:#000000; stroke-linecap:round; stroke-linejoin:round; stroke-width:2; stroke-opacity:0.1; fill:none\" points=\"172.015,1193.74 2352.76,1193.74 \"/>\n",
       "<polyline clip-path=\"url(#clip192)\" style=\"stroke:#000000; stroke-linecap:round; stroke-linejoin:round; stroke-width:2; stroke-opacity:0.1; fill:none\" points=\"172.015,922.753 2352.76,922.753 \"/>\n",
       "<polyline clip-path=\"url(#clip192)\" style=\"stroke:#000000; stroke-linecap:round; stroke-linejoin:round; stroke-width:2; stroke-opacity:0.1; fill:none\" points=\"172.015,651.768 2352.76,651.768 \"/>\n",
       "<polyline clip-path=\"url(#clip192)\" style=\"stroke:#000000; stroke-linecap:round; stroke-linejoin:round; stroke-width:2; stroke-opacity:0.1; fill:none\" points=\"172.015,380.783 2352.76,380.783 \"/>\n",
       "<polyline clip-path=\"url(#clip192)\" style=\"stroke:#000000; stroke-linecap:round; stroke-linejoin:round; stroke-width:2; stroke-opacity:0.1; fill:none\" points=\"172.015,109.798 2352.76,109.798 \"/>\n",
       "<polyline clip-path=\"url(#clip190)\" style=\"stroke:#000000; stroke-linecap:round; stroke-linejoin:round; stroke-width:4; stroke-opacity:1; fill:none\" points=\"172.015,1486.45 172.015,47.2441 \"/>\n",
       "<polyline clip-path=\"url(#clip190)\" style=\"stroke:#000000; stroke-linecap:round; stroke-linejoin:round; stroke-width:4; stroke-opacity:1; fill:none\" points=\"172.015,1464.72 190.912,1464.72 \"/>\n",
       "<polyline clip-path=\"url(#clip190)\" style=\"stroke:#000000; stroke-linecap:round; stroke-linejoin:round; stroke-width:4; stroke-opacity:1; fill:none\" points=\"172.015,1193.74 190.912,1193.74 \"/>\n",
       "<polyline clip-path=\"url(#clip190)\" style=\"stroke:#000000; stroke-linecap:round; stroke-linejoin:round; stroke-width:4; stroke-opacity:1; fill:none\" points=\"172.015,922.753 190.912,922.753 \"/>\n",
       "<polyline clip-path=\"url(#clip190)\" style=\"stroke:#000000; stroke-linecap:round; stroke-linejoin:round; stroke-width:4; stroke-opacity:1; fill:none\" points=\"172.015,651.768 190.912,651.768 \"/>\n",
       "<polyline clip-path=\"url(#clip190)\" style=\"stroke:#000000; stroke-linecap:round; stroke-linejoin:round; stroke-width:4; stroke-opacity:1; fill:none\" points=\"172.015,380.783 190.912,380.783 \"/>\n",
       "<polyline clip-path=\"url(#clip190)\" style=\"stroke:#000000; stroke-linecap:round; stroke-linejoin:round; stroke-width:4; stroke-opacity:1; fill:none\" points=\"172.015,109.798 190.912,109.798 \"/>\n",
       "<path clip-path=\"url(#clip190)\" d=\"M124.07 1450.52 Q120.459 1450.52 118.631 1454.09 Q116.825 1457.63 116.825 1464.76 Q116.825 1471.86 118.631 1475.43 Q120.459 1478.97 124.07 1478.97 Q127.705 1478.97 129.51 1475.43 Q131.339 1471.86 131.339 1464.76 Q131.339 1457.63 129.51 1454.09 Q127.705 1450.52 124.07 1450.52 M124.07 1446.82 Q129.881 1446.82 132.936 1451.42 Q136.015 1456.01 136.015 1464.76 Q136.015 1473.48 132.936 1478.09 Q129.881 1482.67 124.07 1482.67 Q118.26 1482.67 115.182 1478.09 Q112.126 1473.48 112.126 1464.76 Q112.126 1456.01 115.182 1451.42 Q118.26 1446.82 124.07 1446.82 Z\" fill=\"#000000\" fill-rule=\"nonzero\" fill-opacity=\"1\" /><path clip-path=\"url(#clip190)\" d=\"M54.5569 1207.08 L62.1958 1207.08 L62.1958 1180.72 L53.8856 1182.38 L53.8856 1178.12 L62.1495 1176.46 L66.8254 1176.46 L66.8254 1207.08 L74.4642 1207.08 L74.4642 1211.02 L54.5569 1211.02 L54.5569 1207.08 Z\" fill=\"#000000\" fill-rule=\"nonzero\" fill-opacity=\"1\" /><path clip-path=\"url(#clip190)\" d=\"M93.9086 1179.54 Q90.2975 1179.54 88.4688 1183.1 Q86.6632 1186.64 86.6632 1193.77 Q86.6632 1200.88 88.4688 1204.44 Q90.2975 1207.99 93.9086 1207.99 Q97.5428 1207.99 99.3483 1204.44 Q101.177 1200.88 101.177 1193.77 Q101.177 1186.64 99.3483 1183.1 Q97.5428 1179.54 93.9086 1179.54 M93.9086 1175.83 Q99.7187 1175.83 102.774 1180.44 Q105.853 1185.02 105.853 1193.77 Q105.853 1202.5 102.774 1207.11 Q99.7187 1211.69 93.9086 1211.69 Q88.0984 1211.69 85.0197 1207.11 Q81.9642 1202.5 81.9642 1193.77 Q81.9642 1185.02 85.0197 1180.44 Q88.0984 1175.83 93.9086 1175.83 Z\" fill=\"#000000\" fill-rule=\"nonzero\" fill-opacity=\"1\" /><path clip-path=\"url(#clip190)\" d=\"M124.07 1179.54 Q120.459 1179.54 118.631 1183.1 Q116.825 1186.64 116.825 1193.77 Q116.825 1200.88 118.631 1204.44 Q120.459 1207.99 124.07 1207.99 Q127.705 1207.99 129.51 1204.44 Q131.339 1200.88 131.339 1193.77 Q131.339 1186.64 129.51 1183.1 Q127.705 1179.54 124.07 1179.54 M124.07 1175.83 Q129.881 1175.83 132.936 1180.44 Q136.015 1185.02 136.015 1193.77 Q136.015 1202.5 132.936 1207.11 Q129.881 1211.69 124.07 1211.69 Q118.26 1211.69 115.182 1207.11 Q112.126 1202.5 112.126 1193.77 Q112.126 1185.02 115.182 1180.44 Q118.26 1175.83 124.07 1175.83 Z\" fill=\"#000000\" fill-rule=\"nonzero\" fill-opacity=\"1\" /><path clip-path=\"url(#clip190)\" d=\"M57.7745 936.098 L74.0939 936.098 L74.0939 940.033 L52.1495 940.033 L52.1495 936.098 Q54.8115 933.343 59.3949 928.713 Q64.0013 924.061 65.1819 922.718 Q67.4272 920.195 68.3068 918.459 Q69.2096 916.7 69.2096 915.01 Q69.2096 912.255 67.2652 910.519 Q65.3439 908.783 62.2421 908.783 Q60.043 908.783 57.5893 909.547 Q55.1588 910.311 52.381 911.862 L52.381 907.139 Q55.2051 906.005 57.6588 905.427 Q60.1124 904.848 62.1495 904.848 Q67.5198 904.848 70.7142 907.533 Q73.9087 910.218 73.9087 914.709 Q73.9087 916.838 73.0985 918.76 Q72.3115 920.658 70.205 923.251 Q69.6263 923.922 66.5245 927.139 Q63.4226 930.334 57.7745 936.098 Z\" fill=\"#000000\" fill-rule=\"nonzero\" fill-opacity=\"1\" /><path clip-path=\"url(#clip190)\" d=\"M93.9086 908.552 Q90.2975 908.552 88.4688 912.116 Q86.6632 915.658 86.6632 922.788 Q86.6632 929.894 88.4688 933.459 Q90.2975 937 93.9086 937 Q97.5428 937 99.3483 933.459 Q101.177 929.894 101.177 922.788 Q101.177 915.658 99.3483 912.116 Q97.5428 908.552 93.9086 908.552 M93.9086 904.848 Q99.7187 904.848 102.774 909.454 Q105.853 914.038 105.853 922.788 Q105.853 931.514 102.774 936.121 Q99.7187 940.704 93.9086 940.704 Q88.0984 940.704 85.0197 936.121 Q81.9642 931.514 81.9642 922.788 Q81.9642 914.038 85.0197 909.454 Q88.0984 904.848 93.9086 904.848 Z\" fill=\"#000000\" fill-rule=\"nonzero\" fill-opacity=\"1\" /><path clip-path=\"url(#clip190)\" d=\"M124.07 908.552 Q120.459 908.552 118.631 912.116 Q116.825 915.658 116.825 922.788 Q116.825 929.894 118.631 933.459 Q120.459 937 124.07 937 Q127.705 937 129.51 933.459 Q131.339 929.894 131.339 922.788 Q131.339 915.658 129.51 912.116 Q127.705 908.552 124.07 908.552 M124.07 904.848 Q129.881 904.848 132.936 909.454 Q136.015 914.038 136.015 922.788 Q136.015 931.514 132.936 936.121 Q129.881 940.704 124.07 940.704 Q118.26 940.704 115.182 936.121 Q112.126 931.514 112.126 922.788 Q112.126 914.038 115.182 909.454 Q118.26 904.848 124.07 904.848 Z\" fill=\"#000000\" fill-rule=\"nonzero\" fill-opacity=\"1\" /><path clip-path=\"url(#clip190)\" d=\"M67.9133 650.414 Q71.2698 651.131 73.1448 653.4 Q75.0429 655.668 75.0429 659.002 Q75.0429 664.117 71.5244 666.918 Q68.0059 669.719 61.5245 669.719 Q59.3486 669.719 57.0338 669.279 Q54.7421 668.863 52.2884 668.006 L52.2884 663.492 Q54.2328 664.627 56.5477 665.205 Q58.8625 665.784 61.3856 665.784 Q65.7837 665.784 68.0754 664.048 Q70.3902 662.312 70.3902 659.002 Q70.3902 655.946 68.2374 654.233 Q66.1078 652.497 62.2884 652.497 L58.2606 652.497 L58.2606 648.654 L62.4735 648.654 Q65.9226 648.654 67.7513 647.289 Q69.58 645.9 69.58 643.307 Q69.58 640.645 67.6819 639.233 Q65.8069 637.798 62.2884 637.798 Q60.3671 637.798 58.168 638.215 Q55.969 638.631 53.3301 639.511 L53.3301 635.344 Q55.9921 634.604 58.3069 634.233 Q60.6449 633.863 62.705 633.863 Q68.0291 633.863 71.1309 636.293 Q74.2327 638.701 74.2327 642.821 Q74.2327 645.692 72.5892 647.682 Q70.9457 649.65 67.9133 650.414 Z\" fill=\"#000000\" fill-rule=\"nonzero\" fill-opacity=\"1\" /><path clip-path=\"url(#clip190)\" d=\"M93.9086 637.567 Q90.2975 637.567 88.4688 641.131 Q86.6632 644.673 86.6632 651.803 Q86.6632 658.909 88.4688 662.474 Q90.2975 666.015 93.9086 666.015 Q97.5428 666.015 99.3483 662.474 Q101.177 658.909 101.177 651.803 Q101.177 644.673 99.3483 641.131 Q97.5428 637.567 93.9086 637.567 M93.9086 633.863 Q99.7187 633.863 102.774 638.469 Q105.853 643.053 105.853 651.803 Q105.853 660.529 102.774 665.136 Q99.7187 669.719 93.9086 669.719 Q88.0984 669.719 85.0197 665.136 Q81.9642 660.529 81.9642 651.803 Q81.9642 643.053 85.0197 638.469 Q88.0984 633.863 93.9086 633.863 Z\" fill=\"#000000\" fill-rule=\"nonzero\" fill-opacity=\"1\" /><path clip-path=\"url(#clip190)\" d=\"M124.07 637.567 Q120.459 637.567 118.631 641.131 Q116.825 644.673 116.825 651.803 Q116.825 658.909 118.631 662.474 Q120.459 666.015 124.07 666.015 Q127.705 666.015 129.51 662.474 Q131.339 658.909 131.339 651.803 Q131.339 644.673 129.51 641.131 Q127.705 637.567 124.07 637.567 M124.07 633.863 Q129.881 633.863 132.936 638.469 Q136.015 643.053 136.015 651.803 Q136.015 660.529 132.936 665.136 Q129.881 669.719 124.07 669.719 Q118.26 669.719 115.182 665.136 Q112.126 660.529 112.126 651.803 Q112.126 643.053 115.182 638.469 Q118.26 633.863 124.07 633.863 Z\" fill=\"#000000\" fill-rule=\"nonzero\" fill-opacity=\"1\" /><path clip-path=\"url(#clip190)\" d=\"M66.5939 367.577 L54.7884 386.026 L66.5939 386.026 L66.5939 367.577 M65.367 363.503 L71.2466 363.503 L71.2466 386.026 L76.1772 386.026 L76.1772 389.915 L71.2466 389.915 L71.2466 398.063 L66.5939 398.063 L66.5939 389.915 L50.9921 389.915 L50.9921 385.401 L65.367 363.503 Z\" fill=\"#000000\" fill-rule=\"nonzero\" fill-opacity=\"1\" /><path clip-path=\"url(#clip190)\" d=\"M93.9086 366.582 Q90.2975 366.582 88.4688 370.146 Q86.6632 373.688 86.6632 380.818 Q86.6632 387.924 88.4688 391.489 Q90.2975 395.031 93.9086 395.031 Q97.5428 395.031 99.3483 391.489 Q101.177 387.924 101.177 380.818 Q101.177 373.688 99.3483 370.146 Q97.5428 366.582 93.9086 366.582 M93.9086 362.878 Q99.7187 362.878 102.774 367.484 Q105.853 372.068 105.853 380.818 Q105.853 389.544 102.774 394.151 Q99.7187 398.734 93.9086 398.734 Q88.0984 398.734 85.0197 394.151 Q81.9642 389.544 81.9642 380.818 Q81.9642 372.068 85.0197 367.484 Q88.0984 362.878 93.9086 362.878 Z\" fill=\"#000000\" fill-rule=\"nonzero\" fill-opacity=\"1\" /><path clip-path=\"url(#clip190)\" d=\"M124.07 366.582 Q120.459 366.582 118.631 370.146 Q116.825 373.688 116.825 380.818 Q116.825 387.924 118.631 391.489 Q120.459 395.031 124.07 395.031 Q127.705 395.031 129.51 391.489 Q131.339 387.924 131.339 380.818 Q131.339 373.688 129.51 370.146 Q127.705 366.582 124.07 366.582 M124.07 362.878 Q129.881 362.878 132.936 367.484 Q136.015 372.068 136.015 380.818 Q136.015 389.544 132.936 394.151 Q129.881 398.734 124.07 398.734 Q118.26 398.734 115.182 394.151 Q112.126 389.544 112.126 380.818 Q112.126 372.068 115.182 367.484 Q118.26 362.878 124.07 362.878 Z\" fill=\"#000000\" fill-rule=\"nonzero\" fill-opacity=\"1\" /><path clip-path=\"url(#clip190)\" d=\"M53.793 92.518 L72.1494 92.518 L72.1494 96.4531 L58.0754 96.4531 L58.0754 104.925 Q59.0939 104.578 60.1124 104.416 Q61.131 104.231 62.1495 104.231 Q67.9365 104.231 71.3161 107.402 Q74.6957 110.573 74.6957 115.99 Q74.6957 121.569 71.2235 124.671 Q67.7513 127.749 61.4319 127.749 Q59.256 127.749 56.9875 127.379 Q54.7421 127.009 52.3347 126.268 L52.3347 121.569 Q54.418 122.703 56.6402 123.259 Q58.8625 123.814 61.3393 123.814 Q65.3439 123.814 67.6819 121.708 Q70.0198 119.601 70.0198 115.99 Q70.0198 112.379 67.6819 110.273 Q65.3439 108.166 61.3393 108.166 Q59.4643 108.166 57.5893 108.583 Q55.7375 108.999 53.793 109.879 L53.793 92.518 Z\" fill=\"#000000\" fill-rule=\"nonzero\" fill-opacity=\"1\" /><path clip-path=\"url(#clip190)\" d=\"M93.9086 95.5967 Q90.2975 95.5967 88.4688 99.1615 Q86.6632 102.703 86.6632 109.833 Q86.6632 116.939 88.4688 120.504 Q90.2975 124.046 93.9086 124.046 Q97.5428 124.046 99.3483 120.504 Q101.177 116.939 101.177 109.833 Q101.177 102.703 99.3483 99.1615 Q97.5428 95.5967 93.9086 95.5967 M93.9086 91.893 Q99.7187 91.893 102.774 96.4994 Q105.853 101.083 105.853 109.833 Q105.853 118.56 102.774 123.166 Q99.7187 127.749 93.9086 127.749 Q88.0984 127.749 85.0197 123.166 Q81.9642 118.56 81.9642 109.833 Q81.9642 101.083 85.0197 96.4994 Q88.0984 91.893 93.9086 91.893 Z\" fill=\"#000000\" fill-rule=\"nonzero\" fill-opacity=\"1\" /><path clip-path=\"url(#clip190)\" d=\"M124.07 95.5967 Q120.459 95.5967 118.631 99.1615 Q116.825 102.703 116.825 109.833 Q116.825 116.939 118.631 120.504 Q120.459 124.046 124.07 124.046 Q127.705 124.046 129.51 120.504 Q131.339 116.939 131.339 109.833 Q131.339 102.703 129.51 99.1615 Q127.705 95.5967 124.07 95.5967 M124.07 91.893 Q129.881 91.893 132.936 96.4994 Q136.015 101.083 136.015 109.833 Q136.015 118.56 132.936 123.166 Q129.881 127.749 124.07 127.749 Q118.26 127.749 115.182 123.166 Q112.126 118.56 112.126 109.833 Q112.126 101.083 115.182 96.4994 Q118.26 91.893 124.07 91.893 Z\" fill=\"#000000\" fill-rule=\"nonzero\" fill-opacity=\"1\" /><path clip-path=\"url(#clip192)\" d=\"M690.912 1419.74 L462.323 1419.74 L919.502 1419.74 L690.912 1419.74 L690.912 1391.15 L690.912 1419.74  Z\" fill=\"#009af9\" fill-rule=\"evenodd\" fill-opacity=\"0.75\"/>\n",
       "<polyline clip-path=\"url(#clip192)\" style=\"stroke:#000000; stroke-linecap:round; stroke-linejoin:round; stroke-width:4; stroke-opacity:1; fill:none\" points=\"690.912,1419.74 462.323,1419.74 919.502,1419.74 690.912,1419.74 690.912,1391.15 690.912,1419.74 \"/>\n",
       "<path clip-path=\"url(#clip192)\" d=\"M1148.09 1391.15 L1148.09 1373.4 L233.734 1373.4 L233.734 1391.15 L1148.09 1391.15 L1148.09 1373.4 L1148.09 1391.15  Z\" fill=\"#009af9\" fill-rule=\"evenodd\" fill-opacity=\"0.75\"/>\n",
       "<polyline clip-path=\"url(#clip192)\" style=\"stroke:#000000; stroke-linecap:round; stroke-linejoin:round; stroke-width:4; stroke-opacity:1; fill:none\" points=\"1148.09,1391.15 1148.09,1373.4 233.734,1373.4 233.734,1391.15 1148.09,1391.15 1148.09,1373.4 1148.09,1391.15 \"/>\n",
       "<path clip-path=\"url(#clip192)\" d=\"M1148.09 1311.24 L233.734 1311.24 L233.734 1373.4 L1148.09 1373.4 L1148.09 1311.24 L690.912 1311.24 L1148.09 1311.24  Z\" fill=\"#009af9\" fill-rule=\"evenodd\" fill-opacity=\"0.75\"/>\n",
       "<polyline clip-path=\"url(#clip192)\" style=\"stroke:#000000; stroke-linecap:round; stroke-linejoin:round; stroke-width:4; stroke-opacity:1; fill:none\" points=\"1148.09,1311.24 233.734,1311.24 233.734,1373.4 1148.09,1373.4 1148.09,1311.24 690.912,1311.24 1148.09,1311.24 \"/>\n",
       "<path clip-path=\"url(#clip192)\" d=\"M690.912 1212.3 L462.323 1212.3 L919.502 1212.3 L690.912 1212.3 L690.912 1311.24 L690.912 1212.3  Z\" fill=\"#009af9\" fill-rule=\"evenodd\" fill-opacity=\"0.75\"/>\n",
       "<polyline clip-path=\"url(#clip192)\" style=\"stroke:#000000; stroke-linecap:round; stroke-linejoin:round; stroke-width:4; stroke-opacity:1; fill:none\" points=\"690.912,1212.3 462.323,1212.3 919.502,1212.3 690.912,1212.3 690.912,1311.24 690.912,1212.3 \"/>\n",
       "<path clip-path=\"url(#clip192)\" d=\"M1833.86 1414.11 L1605.27 1414.11 L2062.45 1414.11 L1833.86 1414.11 L1833.86 1377.78 L1833.86 1414.11  Z\" fill=\"#009af9\" fill-rule=\"evenodd\" fill-opacity=\"0.75\"/>\n",
       "<polyline clip-path=\"url(#clip192)\" style=\"stroke:#000000; stroke-linecap:round; stroke-linejoin:round; stroke-width:4; stroke-opacity:1; fill:none\" points=\"1833.86,1414.11 1605.27,1414.11 2062.45,1414.11 1833.86,1414.11 1833.86,1377.78 1833.86,1414.11 \"/>\n",
       "<path clip-path=\"url(#clip192)\" d=\"M2291.04 1377.78 L2291.04 1329.99 L1376.68 1329.99 L1376.68 1377.78 L2291.04 1377.78 L2291.04 1329.99 L2291.04 1377.78  Z\" fill=\"#009af9\" fill-rule=\"evenodd\" fill-opacity=\"0.75\"/>\n",
       "<polyline clip-path=\"url(#clip192)\" style=\"stroke:#000000; stroke-linecap:round; stroke-linejoin:round; stroke-width:4; stroke-opacity:1; fill:none\" points=\"2291.04,1377.78 2291.04,1329.99 1376.68,1329.99 1376.68,1377.78 2291.04,1377.78 2291.04,1329.99 2291.04,1377.78 \"/>\n",
       "<path clip-path=\"url(#clip192)\" d=\"M2291.04 1111.12 L1376.68 1111.12 L1376.68 1329.99 L2291.04 1329.99 L2291.04 1111.12 L1833.86 1111.12 L2291.04 1111.12  Z\" fill=\"#009af9\" fill-rule=\"evenodd\" fill-opacity=\"0.75\"/>\n",
       "<polyline clip-path=\"url(#clip192)\" style=\"stroke:#000000; stroke-linecap:round; stroke-linejoin:round; stroke-width:4; stroke-opacity:1; fill:none\" points=\"2291.04,1111.12 1376.68,1111.12 1376.68,1329.99 2291.04,1329.99 2291.04,1111.12 1833.86,1111.12 2291.04,1111.12 \"/>\n",
       "<path clip-path=\"url(#clip192)\" d=\"M1833.86 887.234 L1605.27 887.234 L2062.45 887.234 L1833.86 887.234 L1833.86 1111.12 L1833.86 887.234  Z\" fill=\"#009af9\" fill-rule=\"evenodd\" fill-opacity=\"0.75\"/>\n",
       "<polyline clip-path=\"url(#clip192)\" style=\"stroke:#000000; stroke-linecap:round; stroke-linejoin:round; stroke-width:4; stroke-opacity:1; fill:none\" points=\"1833.86,887.234 1605.27,887.234 2062.45,887.234 1833.86,887.234 1833.86,1111.12 1833.86,887.234 \"/>\n",
       "<circle clip-path=\"url(#clip192)\" cx=\"690.912\" cy=\"1014.9\" r=\"14.4\" fill=\"#009af9\" fill-rule=\"evenodd\" fill-opacity=\"1\" stroke=\"#000000\" stroke-opacity=\"1\" stroke-width=\"3.2\"/>\n",
       "<circle clip-path=\"url(#clip192)\" cx=\"1833.86\" cy=\"98.3931\" r=\"14.4\" fill=\"#009af9\" fill-rule=\"evenodd\" fill-opacity=\"1\" stroke=\"#000000\" stroke-opacity=\"1\" stroke-width=\"3.2\"/>\n",
       "<circle clip-path=\"url(#clip192)\" cx=\"1833.86\" cy=\"287.288\" r=\"14.4\" fill=\"#009af9\" fill-rule=\"evenodd\" fill-opacity=\"1\" stroke=\"#000000\" stroke-opacity=\"1\" stroke-width=\"3.2\"/>\n",
       "<circle clip-path=\"url(#clip192)\" cx=\"1833.86\" cy=\"87.9763\" r=\"14.4\" fill=\"#009af9\" fill-rule=\"evenodd\" fill-opacity=\"1\" stroke=\"#000000\" stroke-opacity=\"1\" stroke-width=\"3.2\"/>\n",
       "<circle clip-path=\"url(#clip192)\" cx=\"1833.86\" cy=\"279.051\" r=\"14.4\" fill=\"#009af9\" fill-rule=\"evenodd\" fill-opacity=\"1\" stroke=\"#000000\" stroke-opacity=\"1\" stroke-width=\"3.2\"/>\n",
       "<polyline clip-path=\"url(#clip192)\" style=\"stroke:#009af9; stroke-linecap:round; stroke-linejoin:round; stroke-width:0; stroke-opacity:1; fill:none\" points=\"690.912,1419.74 462.323,1419.74 919.502,1419.74 690.912,1419.74 690.912,1391.15 \"/>\n",
       "<polyline clip-path=\"url(#clip192)\" style=\"stroke:#009af9; stroke-linecap:round; stroke-linejoin:round; stroke-width:0; stroke-opacity:1; fill:none\" points=\"1148.09,1391.15 1148.09,1373.4 233.734,1373.4 233.734,1391.15 1148.09,1391.15 1148.09,1373.4 \"/>\n",
       "<polyline clip-path=\"url(#clip192)\" style=\"stroke:#009af9; stroke-linecap:round; stroke-linejoin:round; stroke-width:0; stroke-opacity:1; fill:none\" points=\"1148.09,1311.24 233.734,1311.24 233.734,1373.4 1148.09,1373.4 1148.09,1311.24 690.912,1311.24 \"/>\n",
       "<polyline clip-path=\"url(#clip192)\" style=\"stroke:#009af9; stroke-linecap:round; stroke-linejoin:round; stroke-width:0; stroke-opacity:1; fill:none\" points=\"690.912,1212.3 462.323,1212.3 919.502,1212.3 690.912,1212.3 690.912,1311.24 \"/>\n",
       "<polyline clip-path=\"url(#clip192)\" style=\"stroke:#009af9; stroke-linecap:round; stroke-linejoin:round; stroke-width:0; stroke-opacity:1; fill:none\" points=\"1833.86,1414.11 1605.27,1414.11 2062.45,1414.11 1833.86,1414.11 1833.86,1377.78 \"/>\n",
       "<polyline clip-path=\"url(#clip192)\" style=\"stroke:#009af9; stroke-linecap:round; stroke-linejoin:round; stroke-width:0; stroke-opacity:1; fill:none\" points=\"2291.04,1377.78 2291.04,1329.99 1376.68,1329.99 1376.68,1377.78 2291.04,1377.78 2291.04,1329.99 \"/>\n",
       "<polyline clip-path=\"url(#clip192)\" style=\"stroke:#009af9; stroke-linecap:round; stroke-linejoin:round; stroke-width:0; stroke-opacity:1; fill:none\" points=\"2291.04,1111.12 1376.68,1111.12 1376.68,1329.99 2291.04,1329.99 2291.04,1111.12 1833.86,1111.12 \"/>\n",
       "<polyline clip-path=\"url(#clip192)\" style=\"stroke:#009af9; stroke-linecap:round; stroke-linejoin:round; stroke-width:0; stroke-opacity:1; fill:none\" points=\"1833.86,887.234 1605.27,887.234 2062.45,887.234 1833.86,887.234 1833.86,1111.12 \"/>\n",
       "<path clip-path=\"url(#clip192)\" d=\"M690.912 1445.72 L462.323 1445.72 L919.502 1445.72 L690.912 1445.72 L690.912 1436.69 L690.912 1445.72  Z\" fill=\"#e26f46\" fill-rule=\"evenodd\" fill-opacity=\"0.75\"/>\n",
       "<polyline clip-path=\"url(#clip192)\" style=\"stroke:#000000; stroke-linecap:round; stroke-linejoin:round; stroke-width:4; stroke-opacity:1; fill:none\" points=\"690.912,1445.72 462.323,1445.72 919.502,1445.72 690.912,1445.72 690.912,1436.69 690.912,1445.72 \"/>\n",
       "<path clip-path=\"url(#clip192)\" d=\"M1148.09 1436.69 L1148.09 1407.63 L233.734 1407.63 L233.734 1436.69 L1148.09 1436.69 L1148.09 1407.63 L1148.09 1436.69  Z\" fill=\"#e26f46\" fill-rule=\"evenodd\" fill-opacity=\"0.75\"/>\n",
       "<polyline clip-path=\"url(#clip192)\" style=\"stroke:#000000; stroke-linecap:round; stroke-linejoin:round; stroke-width:4; stroke-opacity:1; fill:none\" points=\"1148.09,1436.69 1148.09,1407.63 233.734,1407.63 233.734,1436.69 1148.09,1436.69 1148.09,1407.63 1148.09,1436.69 \"/>\n",
       "<path clip-path=\"url(#clip192)\" d=\"M1148.09 1359.86 L233.734 1359.86 L233.734 1407.63 L1148.09 1407.63 L1148.09 1359.86 L690.912 1359.86 L1148.09 1359.86  Z\" fill=\"#e26f46\" fill-rule=\"evenodd\" fill-opacity=\"0.75\"/>\n",
       "<polyline clip-path=\"url(#clip192)\" style=\"stroke:#000000; stroke-linecap:round; stroke-linejoin:round; stroke-width:4; stroke-opacity:1; fill:none\" points=\"1148.09,1359.86 233.734,1359.86 233.734,1407.63 1148.09,1407.63 1148.09,1359.86 690.912,1359.86 1148.09,1359.86 \"/>\n",
       "<path clip-path=\"url(#clip192)\" d=\"M690.912 1281.03 L462.323 1281.03 L919.502 1281.03 L690.912 1281.03 L690.912 1359.86 L690.912 1281.03  Z\" fill=\"#e26f46\" fill-rule=\"evenodd\" fill-opacity=\"0.75\"/>\n",
       "<polyline clip-path=\"url(#clip192)\" style=\"stroke:#000000; stroke-linecap:round; stroke-linejoin:round; stroke-width:4; stroke-opacity:1; fill:none\" points=\"690.912,1281.03 462.323,1281.03 919.502,1281.03 690.912,1281.03 690.912,1359.86 690.912,1281.03 \"/>\n",
       "<path clip-path=\"url(#clip192)\" d=\"M1833.86 1442.49 L1605.27 1442.49 L2062.45 1442.49 L1833.86 1442.49 L1833.86 1419.48 L1833.86 1442.49  Z\" fill=\"#e26f46\" fill-rule=\"evenodd\" fill-opacity=\"0.75\"/>\n",
       "<polyline clip-path=\"url(#clip192)\" style=\"stroke:#000000; stroke-linecap:round; stroke-linejoin:round; stroke-width:4; stroke-opacity:1; fill:none\" points=\"1833.86,1442.49 1605.27,1442.49 2062.45,1442.49 1833.86,1442.49 1833.86,1419.48 1833.86,1442.49 \"/>\n",
       "<path clip-path=\"url(#clip192)\" d=\"M2291.04 1419.48 L2291.04 1384.7 L1376.68 1384.7 L1376.68 1419.48 L2291.04 1419.48 L2291.04 1384.7 L2291.04 1419.48  Z\" fill=\"#e26f46\" fill-rule=\"evenodd\" fill-opacity=\"0.75\"/>\n",
       "<polyline clip-path=\"url(#clip192)\" style=\"stroke:#000000; stroke-linecap:round; stroke-linejoin:round; stroke-width:4; stroke-opacity:1; fill:none\" points=\"2291.04,1419.48 2291.04,1384.7 1376.68,1384.7 1376.68,1419.48 2291.04,1419.48 2291.04,1384.7 2291.04,1419.48 \"/>\n",
       "<path clip-path=\"url(#clip192)\" d=\"M2291.04 1256.69 L1376.68 1256.69 L1376.68 1384.7 L2291.04 1384.7 L2291.04 1256.69 L1833.86 1256.69 L2291.04 1256.69  Z\" fill=\"#e26f46\" fill-rule=\"evenodd\" fill-opacity=\"0.75\"/>\n",
       "<polyline clip-path=\"url(#clip192)\" style=\"stroke:#000000; stroke-linecap:round; stroke-linejoin:round; stroke-width:4; stroke-opacity:1; fill:none\" points=\"2291.04,1256.69 1376.68,1256.69 1376.68,1384.7 2291.04,1384.7 2291.04,1256.69 1833.86,1256.69 2291.04,1256.69 \"/>\n",
       "<path clip-path=\"url(#clip192)\" d=\"M1833.86 1051.66 L1605.27 1051.66 L2062.45 1051.66 L1833.86 1051.66 L1833.86 1256.69 L1833.86 1051.66  Z\" fill=\"#e26f46\" fill-rule=\"evenodd\" fill-opacity=\"0.75\"/>\n",
       "<polyline clip-path=\"url(#clip192)\" style=\"stroke:#000000; stroke-linecap:round; stroke-linejoin:round; stroke-width:4; stroke-opacity:1; fill:none\" points=\"1833.86,1051.66 1605.27,1051.66 2062.45,1051.66 1833.86,1051.66 1833.86,1256.69 1833.86,1051.66 \"/>\n",
       "<circle clip-path=\"url(#clip192)\" cx=\"690.912\" cy=\"1092.69\" r=\"14.4\" fill=\"#e26f46\" fill-rule=\"evenodd\" fill-opacity=\"1\" stroke=\"#000000\" stroke-opacity=\"1\" stroke-width=\"3.2\"/>\n",
       "<circle clip-path=\"url(#clip192)\" cx=\"1833.86\" cy=\"570.204\" r=\"14.4\" fill=\"#e26f46\" fill-rule=\"evenodd\" fill-opacity=\"1\" stroke=\"#000000\" stroke-opacity=\"1\" stroke-width=\"3.2\"/>\n",
       "<circle clip-path=\"url(#clip192)\" cx=\"1833.86\" cy=\"935.627\" r=\"14.4\" fill=\"#e26f46\" fill-rule=\"evenodd\" fill-opacity=\"1\" stroke=\"#000000\" stroke-opacity=\"1\" stroke-width=\"3.2\"/>\n",
       "<circle clip-path=\"url(#clip192)\" cx=\"1833.86\" cy=\"509.677\" r=\"14.4\" fill=\"#e26f46\" fill-rule=\"evenodd\" fill-opacity=\"1\" stroke=\"#000000\" stroke-opacity=\"1\" stroke-width=\"3.2\"/>\n",
       "<circle clip-path=\"url(#clip192)\" cx=\"1833.86\" cy=\"944.874\" r=\"14.4\" fill=\"#e26f46\" fill-rule=\"evenodd\" fill-opacity=\"1\" stroke=\"#000000\" stroke-opacity=\"1\" stroke-width=\"3.2\"/>\n",
       "<polyline clip-path=\"url(#clip192)\" style=\"stroke:#e26f46; stroke-linecap:round; stroke-linejoin:round; stroke-width:0; stroke-opacity:1; fill:none\" points=\"690.912,1445.72 462.323,1445.72 919.502,1445.72 690.912,1445.72 690.912,1436.69 \"/>\n",
       "<polyline clip-path=\"url(#clip192)\" style=\"stroke:#e26f46; stroke-linecap:round; stroke-linejoin:round; stroke-width:0; stroke-opacity:1; fill:none\" points=\"1148.09,1436.69 1148.09,1407.63 233.734,1407.63 233.734,1436.69 1148.09,1436.69 1148.09,1407.63 \"/>\n",
       "<polyline clip-path=\"url(#clip192)\" style=\"stroke:#e26f46; stroke-linecap:round; stroke-linejoin:round; stroke-width:0; stroke-opacity:1; fill:none\" points=\"1148.09,1359.86 233.734,1359.86 233.734,1407.63 1148.09,1407.63 1148.09,1359.86 690.912,1359.86 \"/>\n",
       "<polyline clip-path=\"url(#clip192)\" style=\"stroke:#e26f46; stroke-linecap:round; stroke-linejoin:round; stroke-width:0; stroke-opacity:1; fill:none\" points=\"690.912,1281.03 462.323,1281.03 919.502,1281.03 690.912,1281.03 690.912,1359.86 \"/>\n",
       "<polyline clip-path=\"url(#clip192)\" style=\"stroke:#e26f46; stroke-linecap:round; stroke-linejoin:round; stroke-width:0; stroke-opacity:1; fill:none\" points=\"1833.86,1442.49 1605.27,1442.49 2062.45,1442.49 1833.86,1442.49 1833.86,1419.48 \"/>\n",
       "<polyline clip-path=\"url(#clip192)\" style=\"stroke:#e26f46; stroke-linecap:round; stroke-linejoin:round; stroke-width:0; stroke-opacity:1; fill:none\" points=\"2291.04,1419.48 2291.04,1384.7 1376.68,1384.7 1376.68,1419.48 2291.04,1419.48 2291.04,1384.7 \"/>\n",
       "<polyline clip-path=\"url(#clip192)\" style=\"stroke:#e26f46; stroke-linecap:round; stroke-linejoin:round; stroke-width:0; stroke-opacity:1; fill:none\" points=\"2291.04,1256.69 1376.68,1256.69 1376.68,1384.7 2291.04,1384.7 2291.04,1256.69 1833.86,1256.69 \"/>\n",
       "<polyline clip-path=\"url(#clip192)\" style=\"stroke:#e26f46; stroke-linecap:round; stroke-linejoin:round; stroke-width:0; stroke-opacity:1; fill:none\" points=\"1833.86,1051.66 1605.27,1051.66 2062.45,1051.66 1833.86,1051.66 1833.86,1256.69 \"/>\n",
       "<path clip-path=\"url(#clip190)\" d=\"M244.706 250.738 L515.211 250.738 L515.211 95.2176 L244.706 95.2176  Z\" fill=\"#ffffff\" fill-rule=\"evenodd\" fill-opacity=\"1\"/>\n",
       "<polyline clip-path=\"url(#clip190)\" style=\"stroke:#000000; stroke-linecap:round; stroke-linejoin:round; stroke-width:4; stroke-opacity:1; fill:none\" points=\"244.706,250.738 515.211,250.738 515.211,95.2176 244.706,95.2176 244.706,250.738 \"/>\n",
       "<path clip-path=\"url(#clip190)\" d=\"M268.937 167.794 L414.319 167.794 L414.319 126.322 L268.937 126.322 L268.937 167.794  Z\" fill=\"#009af9\" fill-rule=\"evenodd\" fill-opacity=\"0.75\"/>\n",
       "<polyline clip-path=\"url(#clip190)\" style=\"stroke:#000000; stroke-linecap:round; stroke-linejoin:round; stroke-width:4; stroke-opacity:1; fill:none\" points=\"268.937,167.794 414.319,167.794 414.319,126.322 268.937,126.322 268.937,167.794 \"/>\n",
       "<path clip-path=\"url(#clip190)\" d=\"M452.392 166.745 Q450.587 171.375 448.874 172.787 Q447.161 174.199 444.291 174.199 L440.888 174.199 L440.888 170.634 L443.388 170.634 Q445.147 170.634 446.119 169.8 Q447.091 168.967 448.272 165.865 L449.036 163.921 L438.55 138.412 L443.064 138.412 L451.166 158.689 L459.267 138.412 L463.781 138.412 L452.392 166.745 Z\" fill=\"#000000\" fill-rule=\"nonzero\" fill-opacity=\"1\" /><path clip-path=\"url(#clip190)\" d=\"M471.073 160.402 L478.712 160.402 L478.712 134.037 L470.402 135.703 L470.402 131.444 L478.665 129.778 L483.341 129.778 L483.341 160.402 L490.98 160.402 L490.98 164.338 L471.073 164.338 L471.073 160.402 Z\" fill=\"#000000\" fill-rule=\"nonzero\" fill-opacity=\"1\" /><path clip-path=\"url(#clip190)\" d=\"M268.937 219.634 L414.319 219.634 L414.319 178.162 L268.937 178.162 L268.937 219.634  Z\" fill=\"#e26f46\" fill-rule=\"evenodd\" fill-opacity=\"0.75\"/>\n",
       "<polyline clip-path=\"url(#clip190)\" style=\"stroke:#000000; stroke-linecap:round; stroke-linejoin:round; stroke-width:4; stroke-opacity:1; fill:none\" points=\"268.937,219.634 414.319,219.634 414.319,178.162 268.937,178.162 268.937,219.634 \"/>\n",
       "<path clip-path=\"url(#clip190)\" d=\"M452.392 218.585 Q450.587 223.215 448.874 224.627 Q447.161 226.039 444.291 226.039 L440.888 226.039 L440.888 222.474 L443.388 222.474 Q445.147 222.474 446.119 221.64 Q447.091 220.807 448.272 217.705 L449.036 215.761 L438.55 190.252 L443.064 190.252 L451.166 210.529 L459.267 190.252 L463.781 190.252 L452.392 218.585 Z\" fill=\"#000000\" fill-rule=\"nonzero\" fill-opacity=\"1\" /><path clip-path=\"url(#clip190)\" d=\"M474.29 212.242 L490.61 212.242 L490.61 216.178 L468.665 216.178 L468.665 212.242 Q471.327 209.488 475.911 204.858 Q480.517 200.205 481.698 198.863 Q483.943 196.34 484.823 194.604 Q485.726 192.844 485.726 191.155 Q485.726 188.4 483.781 186.664 Q481.86 184.928 478.758 184.928 Q476.559 184.928 474.105 185.692 Q471.675 186.455 468.897 188.006 L468.897 183.284 Q471.721 182.15 474.175 181.571 Q476.628 180.993 478.665 180.993 Q484.036 180.993 487.23 183.678 Q490.425 186.363 490.425 190.854 Q490.425 192.983 489.614 194.905 Q488.827 196.803 486.721 199.395 Q486.142 200.067 483.04 203.284 Q479.939 206.479 474.29 212.242 Z\" fill=\"#000000\" fill-rule=\"nonzero\" fill-opacity=\"1\" /></svg>\n"
      ]
     },
     "metadata": {},
     "output_type": "display_data"
    }
   ],
   "source": [
    "mean_probs = hcat(tr_p_25[:,end], tr_p_5[:,end], tr_p_75[:,end])\n",
    "cuts = hcat(q_25_obs, med_obs, q_75_obs, N)\n",
    "bosque = grow_trees(9, cuts, mean_probs, 1)\n",
    "import Statistics.median\n",
    "median_bosque = mapslices(median_tree, bosque, dims=1)\n",
    "medians_est = [get_quantile(bosque[1, i], 0.5) for i in 1:size(bosque, 2)]\n",
    "\n",
    "#do tapply(medians, bio, mean)\n",
    "#X[:,7] is bio\n",
    "using StatsPlots\n",
    "bio = string.(X[:, 62])\n",
    "bio[bio.==\"1\"] .= \"Bio +\"\n",
    "bio[bio.==\"0\"] .= \"Bio -\"\n",
    "boxplot(bio, medians_est, fillalpha=0.75)\n",
    "boxplot!(bio, medians, fillalpha=0.75)\n",
    "#savefig(\"~/Documents/Code/Polya_tree/medians_boxplots.png\")"
   ]
  },
  {
   "cell_type": "code",
   "execution_count": 20,
   "metadata": {},
   "outputs": [
    {
     "data": {
      "text/plain": [
       "\"/Users/bernardo/Documents/Code/Polya_tree/boxplots_sym.png\""
      ]
     },
     "metadata": {},
     "output_type": "display_data"
    }
   ],
   "source": [
    "boxplot(bio, medians, fillalpha=0.75, label=\"Truth\")\n",
    "boxplot!(bio, medians_est, fillalpha=0.75, label=\"Estimated\")\n",
    "savefig(\"~/Documents/Code/Polya_tree/boxplots_sym.png\")"
   ]
  }
 ],
 "metadata": {
  "kernelspec": {
   "display_name": "Julia 1.9.0",
   "language": "julia",
   "name": "julia-1.9"
  },
  "language_info": {
   "file_extension": ".jl",
   "mimetype": "application/julia",
   "name": "julia",
   "version": "1.9.0"
  },
  "orig_nbformat": 4
 },
 "nbformat": 4,
 "nbformat_minor": 2
}
